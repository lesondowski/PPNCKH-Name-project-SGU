{
 "cells": [
  {
   "cell_type": "markdown",
   "id": "a31577ce",
   "metadata": {},
   "source": [
    "### **Introduction**"
   ]
  },
  {
   "cell_type": "markdown",
   "id": "f4bee4ed",
   "metadata": {},
   "source": [
    "Bước đầu trong quá trình phân tích và đánh giá dữ liệu đó là phần *tiền xử lý dữ liệu*. Tiền xử lý dữ liệu cực kì quan trọng trong việc xây dựng hướng đi cũng như các kết quả khám phá dữ liệu sau này. Sau đây là các thông tin cơ bản về tập dữ liệu được sử dụng trong dự án này. "
   ]
  },
  {
   "cell_type": "markdown",
   "id": "6d0da214",
   "metadata": {},
   "source": [
    "1. **Thông tin người dùng**"
   ]
  },
  {
   "cell_type": "markdown",
   "id": "65c6d237",
   "metadata": {},
   "source": [
    "`user_id` - Mã định danh duy nhất cho mỗi người dùng.\n",
    "\n",
    "`age` - Độ tuổi của người dùng.\n",
    "\n",
    "`Gender` - Giới tính của người dùng (ví dụ: Nam, Nữ, Khác).\n",
    "\n",
    "`Date_Registered` - Ngày người dùng đăng ký."
   ]
  },
  {
   "cell_type": "markdown",
   "id": "bc86499a",
   "metadata": {},
   "source": [
    "2. **Thông tin chương trình khách hàng thân thiết**"
   ]
  },
  {
   "cell_type": "markdown",
   "id": "56bf9e8f",
   "metadata": {},
   "source": [
    "`Is_current_loyalty_program_member`- Người dùng hiện có phải là thành viên của chương trình khách hàng thân thiết hay không (Có/Không).\n",
    "\n",
    "`loyalty_points_redeemed`- Số điểm thưởng mà người dùng đổi được.\n",
    "\n",
    "`loyalty_tier`- Mức độ trung thành của người dùng.\n",
    "\n",
    "`Received_tier_discount_percentage`- Phần trăm chiết khấu mà người dùng nhận được dựa trên cấp độ trung thành của họ.\n",
    "\n",
    "`Received_card_discount_percentage`- Phần trăm chiết khấu mà người dùng nhận được khi sử dụng thẻ thành viên.\n",
    "\n",
    "`Received_coupon_discount_percentage`- Phần trăm chiết khấu mà người dùng nhận được khi sử dụng phiếu giảm giá."
   ]
  },
  {
   "cell_type": "markdown",
   "id": "7349a76f",
   "metadata": {},
   "source": [
    "3. **Thông tin sản phẩm**"
   ]
  },
  {
   "cell_type": "markdown",
   "id": "abbab7f3",
   "metadata": {},
   "source": [
    "`product_category`- Loại sản phẩm đã mua (ví dụ: đồ điện tử, đồ dùng văn phòng).\n",
    "\n",
    "`Product_value`- Giá hiển thị của sản phẩm."
   ]
  },
  {
   "cell_type": "markdown",
   "id": "1955c712",
   "metadata": {},
   "source": [
    "4. **Chi tiết giao dịch**"
   ]
  },
  {
   "cell_type": "markdown",
   "id": "e06e5405",
   "metadata": {},
   "source": [
    "`transaction_id`- Một mã định danh duy nhất cho mỗi giao dịch.\n",
    "\n",
    "`order_id`- Mã định danh duy nhất cho đơn hàng mà giao dịch là một phần trong đó.\n",
    "\n",
    "`payment_method`- Phương thức thanh toán được sử dụng cho giao dịch.\n",
    "\n",
    "`payment_datetime`- Ngày và giờ thực hiện thanh toán.\n",
    "\n",
    "`purchased_datetime`- Ngày và giờ mua sản phẩm.\n",
    "\n",
    "`purchase_medium`- Phương tiện được sử dụng để mua hàng.\n",
    "\n",
    "`final_payment`- Số tiền cuối cùng người dùng phải trả (sau khi đã giảm giá và chi phí vận chuyển)."
   ]
  },
  {
   "cell_type": "markdown",
   "id": "3e45ac18",
   "metadata": {},
   "source": [
    "5. **Thông tin giao hàng**"
   ]
  },
  {
   "cell_type": "markdown",
   "id": "6378e67c",
   "metadata": {},
   "source": [
    "`released_date` - Ngày sản phẩm được xuất xưởng để vận chuyển.\n",
    "\n",
    "`estimated_delivery_date` - Ngày giao hàng dự kiến ​​của sản phẩm.\n",
    "\n",
    "`received_date` - Ngày thực tế khách hàng nhận được sản phẩm.\n",
    "\n",
    "`shipping_method` - Phương thức vận chuyển được sử dụng (ví dụ: Tiêu chuẩn, Nhanh).\n",
    "\n",
    "`tracking_number` - Mã số theo dõi được gán cho lô hàng."
   ]
  },
  {
   "cell_type": "markdown",
   "id": "0695e377",
   "metadata": {},
   "source": [
    "6. **Biến mục tiêu**"
   ]
  },
  {
   "cell_type": "markdown",
   "id": "f83a53ae",
   "metadata": {},
   "source": [
    "`customer_experience`- Biến mục tiêu, biểu diễn trải nghiệm của khách hàng với giao dịch. Biến này có thể có các giá trị sau:\n",
    "\n",
    ">  `good`\n",
    "\n",
    ">  `neutral`\n",
    "\n",
    ">  `bad`\n"
   ]
  },
  {
   "cell_type": "markdown",
   "id": "82e3fdda",
   "metadata": {},
   "source": [
    "### **1. Imports** "
   ]
  },
  {
   "cell_type": "markdown",
   "id": "ac854b06",
   "metadata": {},
   "source": [
    "- Import libraries"
   ]
  },
  {
   "cell_type": "code",
   "execution_count": 33,
   "id": "d3b24d0f",
   "metadata": {},
   "outputs": [],
   "source": [
    "import pandas as pd\n",
    "import seaborn as sns\n",
    "import matplotlib.pyplot as plt\n",
    "from collections import Counter\n"
   ]
  },
  {
   "cell_type": "markdown",
   "id": "76b67dd2",
   "metadata": {},
   "source": [
    "- Load data train "
   ]
  },
  {
   "cell_type": "code",
   "execution_count": 34,
   "id": "fcd1661c",
   "metadata": {},
   "outputs": [],
   "source": [
    "train_set = pd.read_csv('./train_dataset.csv')"
   ]
  },
  {
   "cell_type": "markdown",
   "id": "59078067",
   "metadata": {},
   "source": [
    "### **2. Data Preprocessing** "
   ]
  },
  {
   "cell_type": "markdown",
   "id": "6f454bcc",
   "metadata": {},
   "source": [
    "####  2.1 Xử lý các dữ liệu thiếu và trùng lặp"
   ]
  },
  {
   "cell_type": "code",
   "execution_count": 35,
   "id": "0af0f241",
   "metadata": {},
   "outputs": [
    {
     "data": {
      "application/vnd.microsoft.datawrangler.viewer.v0+json": {
       "columns": [
        {
         "name": "index",
         "rawType": "int64",
         "type": "integer"
        },
        {
         "name": "id",
         "rawType": "int64",
         "type": "integer"
        },
        {
         "name": "user_id",
         "rawType": "object",
         "type": "string"
        },
        {
         "name": "age",
         "rawType": "int64",
         "type": "integer"
        },
        {
         "name": "Gender",
         "rawType": "object",
         "type": "string"
        },
        {
         "name": "Date_Registered",
         "rawType": "object",
         "type": "string"
        },
        {
         "name": "Is_current_loyalty_program_member",
         "rawType": "object",
         "type": "string"
        },
        {
         "name": "loyalty_points_redeemed",
         "rawType": "int64",
         "type": "integer"
        },
        {
         "name": "loyalty_tier",
         "rawType": "float64",
         "type": "float"
        },
        {
         "name": "Received_tier_discount_percentage",
         "rawType": "float64",
         "type": "float"
        },
        {
         "name": "Received_card_discount_percentage",
         "rawType": "float64",
         "type": "float"
        },
        {
         "name": "Received_coupon_discount_percentage",
         "rawType": "int64",
         "type": "integer"
        },
        {
         "name": "product_category",
         "rawType": "object",
         "type": "string"
        },
        {
         "name": "Product_value",
         "rawType": "int64",
         "type": "integer"
        },
        {
         "name": "transaction_id",
         "rawType": "object",
         "type": "string"
        },
        {
         "name": "order_id",
         "rawType": "object",
         "type": "string"
        },
        {
         "name": "payment_method",
         "rawType": "object",
         "type": "string"
        },
        {
         "name": "payment_datetime",
         "rawType": "object",
         "type": "string"
        },
        {
         "name": "purchased_datetime",
         "rawType": "object",
         "type": "string"
        },
        {
         "name": "purchase_medium",
         "rawType": "object",
         "type": "string"
        },
        {
         "name": "final_payment",
         "rawType": "float64",
         "type": "float"
        },
        {
         "name": "released_date",
         "rawType": "object",
         "type": "string"
        },
        {
         "name": "estimated_delivery_date",
         "rawType": "object",
         "type": "string"
        },
        {
         "name": "received_date",
         "rawType": "object",
         "type": "string"
        },
        {
         "name": "shipping_method",
         "rawType": "object",
         "type": "string"
        },
        {
         "name": "tracking_number",
         "rawType": "object",
         "type": "string"
        },
        {
         "name": "customer_experience",
         "rawType": "object",
         "type": "string"
        }
       ],
       "conversionMethod": "pd.DataFrame",
       "ref": "cbc83e43-fc3b-4b0a-bb20-97614bfe8ce0",
       "rows": [
        [
         "0",
         "0",
         "****589084",
         "44",
         "O",
         "2020-01-01",
         "NO",
         "5",
         null,
         null,
         "3.0",
         "3",
         "office supplies",
         "1003",
         "***95994394",
         "***242641",
         "visa_c",
         "2020-01-05 22:27:16",
         "2020-01-05 22:27:16",
         "online",
         "1293.0",
         "2020-01-12",
         "2020-01-17",
         "2020-01-17",
         "standard",
         "***9AWDD64SYI",
         "neutral"
        ],
        [
         "1",
         "1",
         "****494191",
         "36",
         "O",
         "2020-01-04",
         "YES",
         "4",
         "1.0",
         "3.0",
         "4.0",
         "1",
         "electronics",
         "4707",
         "***68432956",
         "***682463",
         "amex",
         "2020-01-06 00:37:51",
         "2020-01-06 00:37:51",
         "in-store",
         "4522.4400000000005",
         "2020-01-07",
         "2020-01-12",
         "2020-01-09",
         "express",
         "***3SSRORRZ0X",
         "bad"
        ],
        [
         "2",
         "2",
         "****216469",
         "40",
         "F",
         "2020-01-02",
         "NO",
         "3",
         null,
         null,
         "3.0",
         "5",
         "pet supplies",
         "5486",
         "***66429391",
         "***270784",
         "mastercard_c",
         "2020-01-07 03:02:35",
         "2020-01-07 03:02:35",
         "online",
         "5628.0",
         "2020-01-12",
         "2020-01-18",
         "2020-01-18",
         "express",
         "***2VSB7MH7FN",
         "good"
        ],
        [
         "3",
         "3",
         "****707170",
         "33",
         "M",
         "2020-01-06",
         "YES",
         "1",
         "1.0",
         "3.0",
         "2.0",
         "3",
         "clothing",
         "2121",
         "***64300568",
         "***976607",
         "visa_c",
         "2020-01-09 22:05:39",
         "2020-01-09 22:05:39",
         "in-store",
         "2073.32",
         "2020-01-13",
         "2020-01-15",
         "2020-01-17",
         "express",
         "***9XENHE2PKZ",
         "bad"
        ],
        [
         "4",
         "4",
         "****066329",
         "43",
         "O",
         "2020-01-06",
         "YES",
         "1",
         "1.0",
         "3.0",
         "4.0",
         "2",
         "books",
         "246",
         "***54106959",
         "***449807",
         "visa_c",
         "2020-01-11 08:32:22",
         "2020-01-11 08:32:22",
         "online",
         "310.86",
         "2020-01-15",
         "2020-01-22",
         "2020-01-20",
         "express",
         "***QTWLMEL0PE",
         "bad"
        ]
       ],
       "shape": {
        "columns": 26,
        "rows": 5
       }
      },
      "text/html": [
       "<div>\n",
       "<style scoped>\n",
       "    .dataframe tbody tr th:only-of-type {\n",
       "        vertical-align: middle;\n",
       "    }\n",
       "\n",
       "    .dataframe tbody tr th {\n",
       "        vertical-align: top;\n",
       "    }\n",
       "\n",
       "    .dataframe thead th {\n",
       "        text-align: right;\n",
       "    }\n",
       "</style>\n",
       "<table border=\"1\" class=\"dataframe\">\n",
       "  <thead>\n",
       "    <tr style=\"text-align: right;\">\n",
       "      <th></th>\n",
       "      <th>id</th>\n",
       "      <th>user_id</th>\n",
       "      <th>age</th>\n",
       "      <th>Gender</th>\n",
       "      <th>Date_Registered</th>\n",
       "      <th>Is_current_loyalty_program_member</th>\n",
       "      <th>loyalty_points_redeemed</th>\n",
       "      <th>loyalty_tier</th>\n",
       "      <th>Received_tier_discount_percentage</th>\n",
       "      <th>Received_card_discount_percentage</th>\n",
       "      <th>...</th>\n",
       "      <th>payment_datetime</th>\n",
       "      <th>purchased_datetime</th>\n",
       "      <th>purchase_medium</th>\n",
       "      <th>final_payment</th>\n",
       "      <th>released_date</th>\n",
       "      <th>estimated_delivery_date</th>\n",
       "      <th>received_date</th>\n",
       "      <th>shipping_method</th>\n",
       "      <th>tracking_number</th>\n",
       "      <th>customer_experience</th>\n",
       "    </tr>\n",
       "  </thead>\n",
       "  <tbody>\n",
       "    <tr>\n",
       "      <th>0</th>\n",
       "      <td>0</td>\n",
       "      <td>****589084</td>\n",
       "      <td>44</td>\n",
       "      <td>O</td>\n",
       "      <td>2020-01-01</td>\n",
       "      <td>NO</td>\n",
       "      <td>5</td>\n",
       "      <td>NaN</td>\n",
       "      <td>NaN</td>\n",
       "      <td>3.0</td>\n",
       "      <td>...</td>\n",
       "      <td>2020-01-05 22:27:16</td>\n",
       "      <td>2020-01-05 22:27:16</td>\n",
       "      <td>online</td>\n",
       "      <td>1293.00</td>\n",
       "      <td>2020-01-12</td>\n",
       "      <td>2020-01-17</td>\n",
       "      <td>2020-01-17</td>\n",
       "      <td>standard</td>\n",
       "      <td>***9AWDD64SYI</td>\n",
       "      <td>neutral</td>\n",
       "    </tr>\n",
       "    <tr>\n",
       "      <th>1</th>\n",
       "      <td>1</td>\n",
       "      <td>****494191</td>\n",
       "      <td>36</td>\n",
       "      <td>O</td>\n",
       "      <td>2020-01-04</td>\n",
       "      <td>YES</td>\n",
       "      <td>4</td>\n",
       "      <td>1.0</td>\n",
       "      <td>3.0</td>\n",
       "      <td>4.0</td>\n",
       "      <td>...</td>\n",
       "      <td>2020-01-06 00:37:51</td>\n",
       "      <td>2020-01-06 00:37:51</td>\n",
       "      <td>in-store</td>\n",
       "      <td>4522.44</td>\n",
       "      <td>2020-01-07</td>\n",
       "      <td>2020-01-12</td>\n",
       "      <td>2020-01-09</td>\n",
       "      <td>express</td>\n",
       "      <td>***3SSRORRZ0X</td>\n",
       "      <td>bad</td>\n",
       "    </tr>\n",
       "    <tr>\n",
       "      <th>2</th>\n",
       "      <td>2</td>\n",
       "      <td>****216469</td>\n",
       "      <td>40</td>\n",
       "      <td>F</td>\n",
       "      <td>2020-01-02</td>\n",
       "      <td>NO</td>\n",
       "      <td>3</td>\n",
       "      <td>NaN</td>\n",
       "      <td>NaN</td>\n",
       "      <td>3.0</td>\n",
       "      <td>...</td>\n",
       "      <td>2020-01-07 03:02:35</td>\n",
       "      <td>2020-01-07 03:02:35</td>\n",
       "      <td>online</td>\n",
       "      <td>5628.00</td>\n",
       "      <td>2020-01-12</td>\n",
       "      <td>2020-01-18</td>\n",
       "      <td>2020-01-18</td>\n",
       "      <td>express</td>\n",
       "      <td>***2VSB7MH7FN</td>\n",
       "      <td>good</td>\n",
       "    </tr>\n",
       "    <tr>\n",
       "      <th>3</th>\n",
       "      <td>3</td>\n",
       "      <td>****707170</td>\n",
       "      <td>33</td>\n",
       "      <td>M</td>\n",
       "      <td>2020-01-06</td>\n",
       "      <td>YES</td>\n",
       "      <td>1</td>\n",
       "      <td>1.0</td>\n",
       "      <td>3.0</td>\n",
       "      <td>2.0</td>\n",
       "      <td>...</td>\n",
       "      <td>2020-01-09 22:05:39</td>\n",
       "      <td>2020-01-09 22:05:39</td>\n",
       "      <td>in-store</td>\n",
       "      <td>2073.32</td>\n",
       "      <td>2020-01-13</td>\n",
       "      <td>2020-01-15</td>\n",
       "      <td>2020-01-17</td>\n",
       "      <td>express</td>\n",
       "      <td>***9XENHE2PKZ</td>\n",
       "      <td>bad</td>\n",
       "    </tr>\n",
       "    <tr>\n",
       "      <th>4</th>\n",
       "      <td>4</td>\n",
       "      <td>****066329</td>\n",
       "      <td>43</td>\n",
       "      <td>O</td>\n",
       "      <td>2020-01-06</td>\n",
       "      <td>YES</td>\n",
       "      <td>1</td>\n",
       "      <td>1.0</td>\n",
       "      <td>3.0</td>\n",
       "      <td>4.0</td>\n",
       "      <td>...</td>\n",
       "      <td>2020-01-11 08:32:22</td>\n",
       "      <td>2020-01-11 08:32:22</td>\n",
       "      <td>online</td>\n",
       "      <td>310.86</td>\n",
       "      <td>2020-01-15</td>\n",
       "      <td>2020-01-22</td>\n",
       "      <td>2020-01-20</td>\n",
       "      <td>express</td>\n",
       "      <td>***QTWLMEL0PE</td>\n",
       "      <td>bad</td>\n",
       "    </tr>\n",
       "  </tbody>\n",
       "</table>\n",
       "<p>5 rows × 26 columns</p>\n",
       "</div>"
      ],
      "text/plain": [
       "   id     user_id  age Gender Date_Registered  \\\n",
       "0   0  ****589084   44      O      2020-01-01   \n",
       "1   1  ****494191   36      O      2020-01-04   \n",
       "2   2  ****216469   40      F      2020-01-02   \n",
       "3   3  ****707170   33      M      2020-01-06   \n",
       "4   4  ****066329   43      O      2020-01-06   \n",
       "\n",
       "  Is_current_loyalty_program_member  loyalty_points_redeemed  loyalty_tier  \\\n",
       "0                                NO                        5           NaN   \n",
       "1                               YES                        4           1.0   \n",
       "2                                NO                        3           NaN   \n",
       "3                               YES                        1           1.0   \n",
       "4                               YES                        1           1.0   \n",
       "\n",
       "   Received_tier_discount_percentage  Received_card_discount_percentage  ...  \\\n",
       "0                                NaN                                3.0  ...   \n",
       "1                                3.0                                4.0  ...   \n",
       "2                                NaN                                3.0  ...   \n",
       "3                                3.0                                2.0  ...   \n",
       "4                                3.0                                4.0  ...   \n",
       "\n",
       "      payment_datetime   purchased_datetime  purchase_medium final_payment  \\\n",
       "0  2020-01-05 22:27:16  2020-01-05 22:27:16           online       1293.00   \n",
       "1  2020-01-06 00:37:51  2020-01-06 00:37:51         in-store       4522.44   \n",
       "2  2020-01-07 03:02:35  2020-01-07 03:02:35           online       5628.00   \n",
       "3  2020-01-09 22:05:39  2020-01-09 22:05:39         in-store       2073.32   \n",
       "4  2020-01-11 08:32:22  2020-01-11 08:32:22           online        310.86   \n",
       "\n",
       "  released_date estimated_delivery_date received_date shipping_method  \\\n",
       "0    2020-01-12              2020-01-17    2020-01-17        standard   \n",
       "1    2020-01-07              2020-01-12    2020-01-09         express   \n",
       "2    2020-01-12              2020-01-18    2020-01-18         express   \n",
       "3    2020-01-13              2020-01-15    2020-01-17         express   \n",
       "4    2020-01-15              2020-01-22    2020-01-20         express   \n",
       "\n",
       "  tracking_number  customer_experience  \n",
       "0   ***9AWDD64SYI              neutral  \n",
       "1   ***3SSRORRZ0X                  bad  \n",
       "2   ***2VSB7MH7FN                 good  \n",
       "3   ***9XENHE2PKZ                  bad  \n",
       "4   ***QTWLMEL0PE                  bad  \n",
       "\n",
       "[5 rows x 26 columns]"
      ]
     },
     "execution_count": 35,
     "metadata": {},
     "output_type": "execute_result"
    }
   ],
   "source": [
    "train_set.head()"
   ]
  },
  {
   "cell_type": "markdown",
   "id": "2b36819c",
   "metadata": {},
   "source": [
    "- Lọc bỏ các cột không cần thiết"
   ]
  },
  {
   "cell_type": "code",
   "execution_count": 36,
   "id": "191f4bfb",
   "metadata": {},
   "outputs": [],
   "source": [
    "train_set = train_set.drop(['id','transaction_id', 'order_id',  'tracking_number'], axis=1)"
   ]
  },
  {
   "cell_type": "code",
   "execution_count": 37,
   "id": "ce269bd6",
   "metadata": {},
   "outputs": [],
   "source": [
    "train_set['user_id'] = train_set['user_id'].str.replace('****', '', regex=False) "
   ]
  },
  {
   "cell_type": "markdown",
   "id": "baf8409d",
   "metadata": {},
   "source": [
    "- Điền giá trị trống"
   ]
  },
  {
   "cell_type": "code",
   "execution_count": 38,
   "id": "06a29502",
   "metadata": {},
   "outputs": [],
   "source": [
    "train_set['loyalty_tier'] = train_set['loyalty_tier'].fillna(0)\n",
    "train_set['Received_tier_discount_percentage'] = train_set['Received_tier_discount_percentage'].fillna(0)\n",
    "train_set['Received_card_discount_percentage'] = train_set['Received_card_discount_percentage'].fillna(0)\n"
   ]
  },
  {
   "cell_type": "markdown",
   "id": "19564b32",
   "metadata": {},
   "source": [
    "- Nhãn dữ liệu từ các cột"
   ]
  },
  {
   "cell_type": "code",
   "execution_count": 39,
   "id": "4bc32250",
   "metadata": {},
   "outputs": [],
   "source": [
    "columns = [\n",
    " 'Gender',\n",
    " 'Is_current_loyalty_program_member',\n",
    " 'loyalty_points_redeemed',\n",
    " 'loyalty_tier',\n",
    " 'payment_method', 'purchase_medium',\n",
    " 'shipping_method',\n",
    " 'customer_experience']"
   ]
  },
  {
   "cell_type": "code",
   "execution_count": 40,
   "id": "1621d6e5",
   "metadata": {},
   "outputs": [
    {
     "name": "stdout",
     "output_type": "stream",
     "text": [
      "Nhãn dữ liệu từ Gender: ['O' 'F' 'M']\n",
      "Nhãn dữ liệu từ Is_current_loyalty_program_member: ['NO' 'YES']\n",
      "Nhãn dữ liệu từ loyalty_points_redeemed: [5 4 3 1 0 2]\n",
      "Nhãn dữ liệu từ loyalty_tier: [0. 1. 2. 4. 3.]\n",
      "Nhãn dữ liệu từ payment_method: ['visa_c' 'amex' 'mastercard_c' 'coinsph' 'visa_d' 'gcash' 'maya' 'cash'\n",
      " 'bank_transfer' 'shopeepay' 'otc' 'grabpay' 'mastercard_d']\n",
      "Nhãn dữ liệu từ purchase_medium: ['online' 'in-store']\n",
      "Nhãn dữ liệu từ shipping_method: ['standard' 'express']\n",
      "Nhãn dữ liệu từ customer_experience: ['neutral' 'bad' 'good']\n"
     ]
    }
   ],
   "source": [
    "for item in columns:\n",
    "    print(f\"Nhãn dữ liệu từ {item}:\", train_set[item].unique())"
   ]
  },
  {
   "cell_type": "markdown",
   "id": "bd236a62",
   "metadata": {},
   "source": [
    "- Danh sách dữ liệu trùng lặp"
   ]
  },
  {
   "cell_type": "code",
   "execution_count": 41,
   "id": "5d0c5f23",
   "metadata": {},
   "outputs": [],
   "source": [
    "user_id = train_set['user_id']\n",
    "train_set = train_set.drop(['user_id'], axis=1)\n"
   ]
  },
  {
   "cell_type": "code",
   "execution_count": 42,
   "id": "be1e7250",
   "metadata": {},
   "outputs": [
    {
     "data": {
      "application/vnd.microsoft.datawrangler.viewer.v0+json": {
       "columns": [
        {
         "name": "index",
         "rawType": "int64",
         "type": "integer"
        },
        {
         "name": "age",
         "rawType": "int64",
         "type": "integer"
        },
        {
         "name": "Gender",
         "rawType": "object",
         "type": "string"
        },
        {
         "name": "Date_Registered",
         "rawType": "object",
         "type": "string"
        },
        {
         "name": "Is_current_loyalty_program_member",
         "rawType": "object",
         "type": "string"
        },
        {
         "name": "loyalty_points_redeemed",
         "rawType": "int64",
         "type": "integer"
        },
        {
         "name": "loyalty_tier",
         "rawType": "float64",
         "type": "float"
        },
        {
         "name": "Received_tier_discount_percentage",
         "rawType": "float64",
         "type": "float"
        },
        {
         "name": "Received_card_discount_percentage",
         "rawType": "float64",
         "type": "float"
        },
        {
         "name": "Received_coupon_discount_percentage",
         "rawType": "int64",
         "type": "integer"
        },
        {
         "name": "product_category",
         "rawType": "object",
         "type": "string"
        },
        {
         "name": "Product_value",
         "rawType": "int64",
         "type": "integer"
        },
        {
         "name": "payment_method",
         "rawType": "object",
         "type": "string"
        },
        {
         "name": "payment_datetime",
         "rawType": "object",
         "type": "string"
        },
        {
         "name": "purchased_datetime",
         "rawType": "object",
         "type": "string"
        },
        {
         "name": "purchase_medium",
         "rawType": "object",
         "type": "string"
        },
        {
         "name": "final_payment",
         "rawType": "float64",
         "type": "float"
        },
        {
         "name": "released_date",
         "rawType": "object",
         "type": "string"
        },
        {
         "name": "estimated_delivery_date",
         "rawType": "object",
         "type": "string"
        },
        {
         "name": "received_date",
         "rawType": "object",
         "type": "string"
        },
        {
         "name": "shipping_method",
         "rawType": "object",
         "type": "string"
        },
        {
         "name": "customer_experience",
         "rawType": "object",
         "type": "string"
        }
       ],
       "conversionMethod": "pd.DataFrame",
       "ref": "a8964401-4e5a-42e3-ba56-fa4423462844",
       "rows": [
        [
         "0",
         "44",
         "O",
         "2020-01-01",
         "NO",
         "5",
         "0.0",
         "0.0",
         "3.0",
         "3",
         "office supplies",
         "1003",
         "visa_c",
         "2020-01-05 22:27:16",
         "2020-01-05 22:27:16",
         "online",
         "1293.0",
         "2020-01-12",
         "2020-01-17",
         "2020-01-17",
         "standard",
         "neutral"
        ],
        [
         "1",
         "36",
         "O",
         "2020-01-04",
         "YES",
         "4",
         "1.0",
         "3.0",
         "4.0",
         "1",
         "electronics",
         "4707",
         "amex",
         "2020-01-06 00:37:51",
         "2020-01-06 00:37:51",
         "in-store",
         "4522.4400000000005",
         "2020-01-07",
         "2020-01-12",
         "2020-01-09",
         "express",
         "bad"
        ],
        [
         "2",
         "40",
         "F",
         "2020-01-02",
         "NO",
         "3",
         "0.0",
         "0.0",
         "3.0",
         "5",
         "pet supplies",
         "5486",
         "mastercard_c",
         "2020-01-07 03:02:35",
         "2020-01-07 03:02:35",
         "online",
         "5628.0",
         "2020-01-12",
         "2020-01-18",
         "2020-01-18",
         "express",
         "good"
        ],
        [
         "3",
         "33",
         "M",
         "2020-01-06",
         "YES",
         "1",
         "1.0",
         "3.0",
         "2.0",
         "3",
         "clothing",
         "2121",
         "visa_c",
         "2020-01-09 22:05:39",
         "2020-01-09 22:05:39",
         "in-store",
         "2073.32",
         "2020-01-13",
         "2020-01-15",
         "2020-01-17",
         "express",
         "bad"
        ],
        [
         "4",
         "43",
         "O",
         "2020-01-06",
         "YES",
         "1",
         "1.0",
         "3.0",
         "4.0",
         "2",
         "books",
         "246",
         "visa_c",
         "2020-01-11 08:32:22",
         "2020-01-11 08:32:22",
         "online",
         "310.86",
         "2020-01-15",
         "2020-01-22",
         "2020-01-20",
         "express",
         "bad"
        ]
       ],
       "shape": {
        "columns": 21,
        "rows": 5
       }
      },
      "text/html": [
       "<div>\n",
       "<style scoped>\n",
       "    .dataframe tbody tr th:only-of-type {\n",
       "        vertical-align: middle;\n",
       "    }\n",
       "\n",
       "    .dataframe tbody tr th {\n",
       "        vertical-align: top;\n",
       "    }\n",
       "\n",
       "    .dataframe thead th {\n",
       "        text-align: right;\n",
       "    }\n",
       "</style>\n",
       "<table border=\"1\" class=\"dataframe\">\n",
       "  <thead>\n",
       "    <tr style=\"text-align: right;\">\n",
       "      <th></th>\n",
       "      <th>age</th>\n",
       "      <th>Gender</th>\n",
       "      <th>Date_Registered</th>\n",
       "      <th>Is_current_loyalty_program_member</th>\n",
       "      <th>loyalty_points_redeemed</th>\n",
       "      <th>loyalty_tier</th>\n",
       "      <th>Received_tier_discount_percentage</th>\n",
       "      <th>Received_card_discount_percentage</th>\n",
       "      <th>Received_coupon_discount_percentage</th>\n",
       "      <th>product_category</th>\n",
       "      <th>...</th>\n",
       "      <th>payment_method</th>\n",
       "      <th>payment_datetime</th>\n",
       "      <th>purchased_datetime</th>\n",
       "      <th>purchase_medium</th>\n",
       "      <th>final_payment</th>\n",
       "      <th>released_date</th>\n",
       "      <th>estimated_delivery_date</th>\n",
       "      <th>received_date</th>\n",
       "      <th>shipping_method</th>\n",
       "      <th>customer_experience</th>\n",
       "    </tr>\n",
       "  </thead>\n",
       "  <tbody>\n",
       "    <tr>\n",
       "      <th>0</th>\n",
       "      <td>44</td>\n",
       "      <td>O</td>\n",
       "      <td>2020-01-01</td>\n",
       "      <td>NO</td>\n",
       "      <td>5</td>\n",
       "      <td>0.0</td>\n",
       "      <td>0.0</td>\n",
       "      <td>3.0</td>\n",
       "      <td>3</td>\n",
       "      <td>office supplies</td>\n",
       "      <td>...</td>\n",
       "      <td>visa_c</td>\n",
       "      <td>2020-01-05 22:27:16</td>\n",
       "      <td>2020-01-05 22:27:16</td>\n",
       "      <td>online</td>\n",
       "      <td>1293.00</td>\n",
       "      <td>2020-01-12</td>\n",
       "      <td>2020-01-17</td>\n",
       "      <td>2020-01-17</td>\n",
       "      <td>standard</td>\n",
       "      <td>neutral</td>\n",
       "    </tr>\n",
       "    <tr>\n",
       "      <th>1</th>\n",
       "      <td>36</td>\n",
       "      <td>O</td>\n",
       "      <td>2020-01-04</td>\n",
       "      <td>YES</td>\n",
       "      <td>4</td>\n",
       "      <td>1.0</td>\n",
       "      <td>3.0</td>\n",
       "      <td>4.0</td>\n",
       "      <td>1</td>\n",
       "      <td>electronics</td>\n",
       "      <td>...</td>\n",
       "      <td>amex</td>\n",
       "      <td>2020-01-06 00:37:51</td>\n",
       "      <td>2020-01-06 00:37:51</td>\n",
       "      <td>in-store</td>\n",
       "      <td>4522.44</td>\n",
       "      <td>2020-01-07</td>\n",
       "      <td>2020-01-12</td>\n",
       "      <td>2020-01-09</td>\n",
       "      <td>express</td>\n",
       "      <td>bad</td>\n",
       "    </tr>\n",
       "    <tr>\n",
       "      <th>2</th>\n",
       "      <td>40</td>\n",
       "      <td>F</td>\n",
       "      <td>2020-01-02</td>\n",
       "      <td>NO</td>\n",
       "      <td>3</td>\n",
       "      <td>0.0</td>\n",
       "      <td>0.0</td>\n",
       "      <td>3.0</td>\n",
       "      <td>5</td>\n",
       "      <td>pet supplies</td>\n",
       "      <td>...</td>\n",
       "      <td>mastercard_c</td>\n",
       "      <td>2020-01-07 03:02:35</td>\n",
       "      <td>2020-01-07 03:02:35</td>\n",
       "      <td>online</td>\n",
       "      <td>5628.00</td>\n",
       "      <td>2020-01-12</td>\n",
       "      <td>2020-01-18</td>\n",
       "      <td>2020-01-18</td>\n",
       "      <td>express</td>\n",
       "      <td>good</td>\n",
       "    </tr>\n",
       "    <tr>\n",
       "      <th>3</th>\n",
       "      <td>33</td>\n",
       "      <td>M</td>\n",
       "      <td>2020-01-06</td>\n",
       "      <td>YES</td>\n",
       "      <td>1</td>\n",
       "      <td>1.0</td>\n",
       "      <td>3.0</td>\n",
       "      <td>2.0</td>\n",
       "      <td>3</td>\n",
       "      <td>clothing</td>\n",
       "      <td>...</td>\n",
       "      <td>visa_c</td>\n",
       "      <td>2020-01-09 22:05:39</td>\n",
       "      <td>2020-01-09 22:05:39</td>\n",
       "      <td>in-store</td>\n",
       "      <td>2073.32</td>\n",
       "      <td>2020-01-13</td>\n",
       "      <td>2020-01-15</td>\n",
       "      <td>2020-01-17</td>\n",
       "      <td>express</td>\n",
       "      <td>bad</td>\n",
       "    </tr>\n",
       "    <tr>\n",
       "      <th>4</th>\n",
       "      <td>43</td>\n",
       "      <td>O</td>\n",
       "      <td>2020-01-06</td>\n",
       "      <td>YES</td>\n",
       "      <td>1</td>\n",
       "      <td>1.0</td>\n",
       "      <td>3.0</td>\n",
       "      <td>4.0</td>\n",
       "      <td>2</td>\n",
       "      <td>books</td>\n",
       "      <td>...</td>\n",
       "      <td>visa_c</td>\n",
       "      <td>2020-01-11 08:32:22</td>\n",
       "      <td>2020-01-11 08:32:22</td>\n",
       "      <td>online</td>\n",
       "      <td>310.86</td>\n",
       "      <td>2020-01-15</td>\n",
       "      <td>2020-01-22</td>\n",
       "      <td>2020-01-20</td>\n",
       "      <td>express</td>\n",
       "      <td>bad</td>\n",
       "    </tr>\n",
       "  </tbody>\n",
       "</table>\n",
       "<p>5 rows × 21 columns</p>\n",
       "</div>"
      ],
      "text/plain": [
       "   age Gender Date_Registered Is_current_loyalty_program_member  \\\n",
       "0   44      O      2020-01-01                                NO   \n",
       "1   36      O      2020-01-04                               YES   \n",
       "2   40      F      2020-01-02                                NO   \n",
       "3   33      M      2020-01-06                               YES   \n",
       "4   43      O      2020-01-06                               YES   \n",
       "\n",
       "   loyalty_points_redeemed  loyalty_tier  Received_tier_discount_percentage  \\\n",
       "0                        5           0.0                                0.0   \n",
       "1                        4           1.0                                3.0   \n",
       "2                        3           0.0                                0.0   \n",
       "3                        1           1.0                                3.0   \n",
       "4                        1           1.0                                3.0   \n",
       "\n",
       "   Received_card_discount_percentage  Received_coupon_discount_percentage  \\\n",
       "0                                3.0                                    3   \n",
       "1                                4.0                                    1   \n",
       "2                                3.0                                    5   \n",
       "3                                2.0                                    3   \n",
       "4                                4.0                                    2   \n",
       "\n",
       "  product_category  ...  payment_method     payment_datetime  \\\n",
       "0  office supplies  ...          visa_c  2020-01-05 22:27:16   \n",
       "1      electronics  ...            amex  2020-01-06 00:37:51   \n",
       "2     pet supplies  ...    mastercard_c  2020-01-07 03:02:35   \n",
       "3         clothing  ...          visa_c  2020-01-09 22:05:39   \n",
       "4            books  ...          visa_c  2020-01-11 08:32:22   \n",
       "\n",
       "    purchased_datetime purchase_medium final_payment  released_date  \\\n",
       "0  2020-01-05 22:27:16          online       1293.00     2020-01-12   \n",
       "1  2020-01-06 00:37:51        in-store       4522.44     2020-01-07   \n",
       "2  2020-01-07 03:02:35          online       5628.00     2020-01-12   \n",
       "3  2020-01-09 22:05:39        in-store       2073.32     2020-01-13   \n",
       "4  2020-01-11 08:32:22          online        310.86     2020-01-15   \n",
       "\n",
       "  estimated_delivery_date received_date shipping_method customer_experience  \n",
       "0              2020-01-17    2020-01-17        standard             neutral  \n",
       "1              2020-01-12    2020-01-09         express                 bad  \n",
       "2              2020-01-18    2020-01-18         express                good  \n",
       "3              2020-01-15    2020-01-17         express                 bad  \n",
       "4              2020-01-22    2020-01-20         express                 bad  \n",
       "\n",
       "[5 rows x 21 columns]"
      ]
     },
     "execution_count": 42,
     "metadata": {},
     "output_type": "execute_result"
    }
   ],
   "source": [
    "train_set.head()"
   ]
  },
  {
   "cell_type": "code",
   "execution_count": 43,
   "id": "9afbf561",
   "metadata": {},
   "outputs": [
    {
     "data": {
      "application/vnd.microsoft.datawrangler.viewer.v0+json": {
       "columns": [
        {
         "name": "index",
         "rawType": "int64",
         "type": "integer"
        },
        {
         "name": "age",
         "rawType": "int64",
         "type": "integer"
        },
        {
         "name": "Gender",
         "rawType": "object",
         "type": "string"
        },
        {
         "name": "Date_Registered",
         "rawType": "object",
         "type": "string"
        },
        {
         "name": "Is_current_loyalty_program_member",
         "rawType": "object",
         "type": "string"
        },
        {
         "name": "loyalty_points_redeemed",
         "rawType": "int64",
         "type": "integer"
        },
        {
         "name": "loyalty_tier",
         "rawType": "float64",
         "type": "float"
        },
        {
         "name": "Received_tier_discount_percentage",
         "rawType": "float64",
         "type": "float"
        },
        {
         "name": "Received_card_discount_percentage",
         "rawType": "float64",
         "type": "float"
        },
        {
         "name": "Received_coupon_discount_percentage",
         "rawType": "int64",
         "type": "integer"
        },
        {
         "name": "product_category",
         "rawType": "object",
         "type": "string"
        },
        {
         "name": "Product_value",
         "rawType": "int64",
         "type": "integer"
        },
        {
         "name": "payment_method",
         "rawType": "object",
         "type": "string"
        },
        {
         "name": "payment_datetime",
         "rawType": "object",
         "type": "string"
        },
        {
         "name": "purchased_datetime",
         "rawType": "object",
         "type": "string"
        },
        {
         "name": "purchase_medium",
         "rawType": "object",
         "type": "string"
        },
        {
         "name": "final_payment",
         "rawType": "float64",
         "type": "float"
        },
        {
         "name": "released_date",
         "rawType": "object",
         "type": "string"
        },
        {
         "name": "estimated_delivery_date",
         "rawType": "object",
         "type": "string"
        },
        {
         "name": "received_date",
         "rawType": "object",
         "type": "string"
        },
        {
         "name": "shipping_method",
         "rawType": "object",
         "type": "string"
        },
        {
         "name": "customer_experience",
         "rawType": "object",
         "type": "string"
        }
       ],
       "conversionMethod": "pd.DataFrame",
       "ref": "15fa9bc7-078a-4737-8bad-05ba97a3c717",
       "rows": [
        [
         "14559",
         "42",
         "F",
         "2020-05-13",
         "NO",
         "5",
         "0.0",
         "0.0",
         "5.0",
         "2",
         "pet supplies",
         "4559",
         "visa_c",
         "2021-10-06 08:32:51",
         "2021-10-06 08:32:51",
         "online",
         "4820.0",
         "2021-10-12",
         "2021-10-19",
         "2021-10-16",
         "standard",
         "good"
        ],
        [
         "20151",
         "27",
         "M",
         "2022-01-08",
         "NO",
         "0",
         "0.0",
         "0.0",
         "0.0",
         "1",
         "music",
         "5703",
         "cash",
         "2022-01-16 02:22:24",
         "2022-01-16 02:22:24",
         "online",
         "5914.0",
         "2022-01-20",
         "2022-01-23",
         "2022-01-20",
         "express",
         "bad"
        ],
        [
         "28656",
         "18",
         "F",
         "2021-01-25",
         "YES",
         "4",
         "3.0",
         "7.0",
         "0.0",
         "4",
         "pet supplies",
         "5848",
         "shopeepay",
         "2022-05-23 09:42:22",
         "2022-05-23 09:42:22",
         "online",
         "5914.0",
         "2022-05-26",
         "2022-05-30",
         "2022-05-27",
         "express",
         "bad"
        ],
        [
         "53426",
         "39",
         "O",
         "2020-09-24",
         "YES",
         "3",
         "2.0",
         "5.0",
         "0.0",
         "3",
         "clothing",
         "3169",
         "visa_d",
         "2023-02-18 05:18:00",
         "2023-02-18 05:18:00",
         "online",
         "3235.0",
         "2023-02-23",
         "2023-02-25",
         "2023-02-26",
         "express",
         "good"
        ],
        [
         "80225",
         "53",
         "O",
         "2023-02-24",
         "YES",
         "1",
         "1.0",
         "3.0",
         "1.0",
         "1",
         "health",
         "5063",
         "mastercard_c",
         "2023-09-11 15:10:35",
         "2023-09-11 15:10:35",
         "online",
         "5073.849999999999",
         "2023-09-18",
         "2023-09-23",
         "2023-09-20",
         "standard",
         "bad"
        ],
        [
         "93722",
         "29",
         "M",
         "2023-07-01",
         "YES",
         "1",
         "1.0",
         "3.0",
         "0.0",
         "4",
         "clothing",
         "1942",
         "mastercard_d",
         "2023-12-03 03:04:26",
         "2023-12-03 03:04:26",
         "online",
         "2196.0",
         "2023-12-08",
         "2023-12-14",
         "2023-12-13",
         "express",
         "neutral"
        ],
        [
         "104620",
         "19",
         "M",
         "2023-04-18",
         "NO",
         "2",
         "0.0",
         "0.0",
         "2.0",
         "2",
         "clothing",
         "5908",
         "amex",
         "2024-01-30 23:08:26",
         "2024-01-30 23:08:26",
         "in-store",
         "6184.0",
         "2024-02-02",
         "2024-02-05",
         "2024-02-03",
         "express",
         "good"
        ],
        [
         "120427",
         "26",
         "M",
         "2024-02-03",
         "NO",
         "1",
         "0.0",
         "0.0",
         "0.0",
         "0",
         "toys",
         "1867",
         "gcash",
         "2024-04-15 11:27:51",
         "2024-04-15 11:27:51",
         "online",
         "2110.0",
         "2024-04-20",
         "2024-04-21",
         "2024-04-18",
         "standard",
         "good"
        ],
        [
         "126418",
         "50",
         "O",
         "2022-09-26",
         "YES",
         "0",
         "3.0",
         "7.0",
         "1.0",
         "0",
         "office supplies",
         "4939",
         "amex",
         "2024-05-11 09:47:44",
         "2024-05-11 09:47:44",
         "in-store",
         "4671.88",
         "2024-05-16",
         "2024-05-22",
         "2024-05-20",
         "express",
         "good"
        ],
        [
         "170816",
         "18",
         "F",
         "2024-01-20",
         "YES",
         "3",
         "3.0",
         "7.0",
         "0.0",
         "1",
         "groceries",
         "2385",
         "shopeepay",
         "2024-10-13 18:32:52",
         "2024-10-13 18:32:52",
         "in-store",
         "2584.0",
         "2024-10-20",
         "2024-10-27",
         "2024-10-27",
         "express",
         "good"
        ],
        [
         "181466",
         "60",
         "O",
         "2022-07-21",
         "NO",
         "3",
         "0.0",
         "0.0",
         "0.0",
         "5",
         "furniture",
         "1199",
         "cash",
         "2024-11-10 09:40:02",
         "2024-11-10 09:40:02",
         "in-store",
         "1472.0",
         "2024-11-14",
         "2024-11-18",
         "2024-11-17",
         "express",
         "good"
        ],
        [
         "187424",
         "57",
         "O",
         "2024-03-21",
         "YES",
         "4",
         "2.0",
         "5.0",
         "5.0",
         "5",
         "toys",
         "215",
         "mastercard_c",
         "2024-11-24 01:56:32",
         "2024-11-24 01:56:32",
         "in-store",
         "392.75",
         "2024-11-30",
         "2024-12-07",
         "2024-12-07",
         "express",
         "good"
        ]
       ],
       "shape": {
        "columns": 21,
        "rows": 12
       }
      },
      "text/html": [
       "<div>\n",
       "<style scoped>\n",
       "    .dataframe tbody tr th:only-of-type {\n",
       "        vertical-align: middle;\n",
       "    }\n",
       "\n",
       "    .dataframe tbody tr th {\n",
       "        vertical-align: top;\n",
       "    }\n",
       "\n",
       "    .dataframe thead th {\n",
       "        text-align: right;\n",
       "    }\n",
       "</style>\n",
       "<table border=\"1\" class=\"dataframe\">\n",
       "  <thead>\n",
       "    <tr style=\"text-align: right;\">\n",
       "      <th></th>\n",
       "      <th>age</th>\n",
       "      <th>Gender</th>\n",
       "      <th>Date_Registered</th>\n",
       "      <th>Is_current_loyalty_program_member</th>\n",
       "      <th>loyalty_points_redeemed</th>\n",
       "      <th>loyalty_tier</th>\n",
       "      <th>Received_tier_discount_percentage</th>\n",
       "      <th>Received_card_discount_percentage</th>\n",
       "      <th>Received_coupon_discount_percentage</th>\n",
       "      <th>product_category</th>\n",
       "      <th>...</th>\n",
       "      <th>payment_method</th>\n",
       "      <th>payment_datetime</th>\n",
       "      <th>purchased_datetime</th>\n",
       "      <th>purchase_medium</th>\n",
       "      <th>final_payment</th>\n",
       "      <th>released_date</th>\n",
       "      <th>estimated_delivery_date</th>\n",
       "      <th>received_date</th>\n",
       "      <th>shipping_method</th>\n",
       "      <th>customer_experience</th>\n",
       "    </tr>\n",
       "  </thead>\n",
       "  <tbody>\n",
       "    <tr>\n",
       "      <th>14559</th>\n",
       "      <td>42</td>\n",
       "      <td>F</td>\n",
       "      <td>2020-05-13</td>\n",
       "      <td>NO</td>\n",
       "      <td>5</td>\n",
       "      <td>0.0</td>\n",
       "      <td>0.0</td>\n",
       "      <td>5.0</td>\n",
       "      <td>2</td>\n",
       "      <td>pet supplies</td>\n",
       "      <td>...</td>\n",
       "      <td>visa_c</td>\n",
       "      <td>2021-10-06 08:32:51</td>\n",
       "      <td>2021-10-06 08:32:51</td>\n",
       "      <td>online</td>\n",
       "      <td>4820.00</td>\n",
       "      <td>2021-10-12</td>\n",
       "      <td>2021-10-19</td>\n",
       "      <td>2021-10-16</td>\n",
       "      <td>standard</td>\n",
       "      <td>good</td>\n",
       "    </tr>\n",
       "    <tr>\n",
       "      <th>20151</th>\n",
       "      <td>27</td>\n",
       "      <td>M</td>\n",
       "      <td>2022-01-08</td>\n",
       "      <td>NO</td>\n",
       "      <td>0</td>\n",
       "      <td>0.0</td>\n",
       "      <td>0.0</td>\n",
       "      <td>0.0</td>\n",
       "      <td>1</td>\n",
       "      <td>music</td>\n",
       "      <td>...</td>\n",
       "      <td>cash</td>\n",
       "      <td>2022-01-16 02:22:24</td>\n",
       "      <td>2022-01-16 02:22:24</td>\n",
       "      <td>online</td>\n",
       "      <td>5914.00</td>\n",
       "      <td>2022-01-20</td>\n",
       "      <td>2022-01-23</td>\n",
       "      <td>2022-01-20</td>\n",
       "      <td>express</td>\n",
       "      <td>bad</td>\n",
       "    </tr>\n",
       "    <tr>\n",
       "      <th>28656</th>\n",
       "      <td>18</td>\n",
       "      <td>F</td>\n",
       "      <td>2021-01-25</td>\n",
       "      <td>YES</td>\n",
       "      <td>4</td>\n",
       "      <td>3.0</td>\n",
       "      <td>7.0</td>\n",
       "      <td>0.0</td>\n",
       "      <td>4</td>\n",
       "      <td>pet supplies</td>\n",
       "      <td>...</td>\n",
       "      <td>shopeepay</td>\n",
       "      <td>2022-05-23 09:42:22</td>\n",
       "      <td>2022-05-23 09:42:22</td>\n",
       "      <td>online</td>\n",
       "      <td>5914.00</td>\n",
       "      <td>2022-05-26</td>\n",
       "      <td>2022-05-30</td>\n",
       "      <td>2022-05-27</td>\n",
       "      <td>express</td>\n",
       "      <td>bad</td>\n",
       "    </tr>\n",
       "    <tr>\n",
       "      <th>53426</th>\n",
       "      <td>39</td>\n",
       "      <td>O</td>\n",
       "      <td>2020-09-24</td>\n",
       "      <td>YES</td>\n",
       "      <td>3</td>\n",
       "      <td>2.0</td>\n",
       "      <td>5.0</td>\n",
       "      <td>0.0</td>\n",
       "      <td>3</td>\n",
       "      <td>clothing</td>\n",
       "      <td>...</td>\n",
       "      <td>visa_d</td>\n",
       "      <td>2023-02-18 05:18:00</td>\n",
       "      <td>2023-02-18 05:18:00</td>\n",
       "      <td>online</td>\n",
       "      <td>3235.00</td>\n",
       "      <td>2023-02-23</td>\n",
       "      <td>2023-02-25</td>\n",
       "      <td>2023-02-26</td>\n",
       "      <td>express</td>\n",
       "      <td>good</td>\n",
       "    </tr>\n",
       "    <tr>\n",
       "      <th>80225</th>\n",
       "      <td>53</td>\n",
       "      <td>O</td>\n",
       "      <td>2023-02-24</td>\n",
       "      <td>YES</td>\n",
       "      <td>1</td>\n",
       "      <td>1.0</td>\n",
       "      <td>3.0</td>\n",
       "      <td>1.0</td>\n",
       "      <td>1</td>\n",
       "      <td>health</td>\n",
       "      <td>...</td>\n",
       "      <td>mastercard_c</td>\n",
       "      <td>2023-09-11 15:10:35</td>\n",
       "      <td>2023-09-11 15:10:35</td>\n",
       "      <td>online</td>\n",
       "      <td>5073.85</td>\n",
       "      <td>2023-09-18</td>\n",
       "      <td>2023-09-23</td>\n",
       "      <td>2023-09-20</td>\n",
       "      <td>standard</td>\n",
       "      <td>bad</td>\n",
       "    </tr>\n",
       "    <tr>\n",
       "      <th>93722</th>\n",
       "      <td>29</td>\n",
       "      <td>M</td>\n",
       "      <td>2023-07-01</td>\n",
       "      <td>YES</td>\n",
       "      <td>1</td>\n",
       "      <td>1.0</td>\n",
       "      <td>3.0</td>\n",
       "      <td>0.0</td>\n",
       "      <td>4</td>\n",
       "      <td>clothing</td>\n",
       "      <td>...</td>\n",
       "      <td>mastercard_d</td>\n",
       "      <td>2023-12-03 03:04:26</td>\n",
       "      <td>2023-12-03 03:04:26</td>\n",
       "      <td>online</td>\n",
       "      <td>2196.00</td>\n",
       "      <td>2023-12-08</td>\n",
       "      <td>2023-12-14</td>\n",
       "      <td>2023-12-13</td>\n",
       "      <td>express</td>\n",
       "      <td>neutral</td>\n",
       "    </tr>\n",
       "    <tr>\n",
       "      <th>104620</th>\n",
       "      <td>19</td>\n",
       "      <td>M</td>\n",
       "      <td>2023-04-18</td>\n",
       "      <td>NO</td>\n",
       "      <td>2</td>\n",
       "      <td>0.0</td>\n",
       "      <td>0.0</td>\n",
       "      <td>2.0</td>\n",
       "      <td>2</td>\n",
       "      <td>clothing</td>\n",
       "      <td>...</td>\n",
       "      <td>amex</td>\n",
       "      <td>2024-01-30 23:08:26</td>\n",
       "      <td>2024-01-30 23:08:26</td>\n",
       "      <td>in-store</td>\n",
       "      <td>6184.00</td>\n",
       "      <td>2024-02-02</td>\n",
       "      <td>2024-02-05</td>\n",
       "      <td>2024-02-03</td>\n",
       "      <td>express</td>\n",
       "      <td>good</td>\n",
       "    </tr>\n",
       "    <tr>\n",
       "      <th>120427</th>\n",
       "      <td>26</td>\n",
       "      <td>M</td>\n",
       "      <td>2024-02-03</td>\n",
       "      <td>NO</td>\n",
       "      <td>1</td>\n",
       "      <td>0.0</td>\n",
       "      <td>0.0</td>\n",
       "      <td>0.0</td>\n",
       "      <td>0</td>\n",
       "      <td>toys</td>\n",
       "      <td>...</td>\n",
       "      <td>gcash</td>\n",
       "      <td>2024-04-15 11:27:51</td>\n",
       "      <td>2024-04-15 11:27:51</td>\n",
       "      <td>online</td>\n",
       "      <td>2110.00</td>\n",
       "      <td>2024-04-20</td>\n",
       "      <td>2024-04-21</td>\n",
       "      <td>2024-04-18</td>\n",
       "      <td>standard</td>\n",
       "      <td>good</td>\n",
       "    </tr>\n",
       "    <tr>\n",
       "      <th>126418</th>\n",
       "      <td>50</td>\n",
       "      <td>O</td>\n",
       "      <td>2022-09-26</td>\n",
       "      <td>YES</td>\n",
       "      <td>0</td>\n",
       "      <td>3.0</td>\n",
       "      <td>7.0</td>\n",
       "      <td>1.0</td>\n",
       "      <td>0</td>\n",
       "      <td>office supplies</td>\n",
       "      <td>...</td>\n",
       "      <td>amex</td>\n",
       "      <td>2024-05-11 09:47:44</td>\n",
       "      <td>2024-05-11 09:47:44</td>\n",
       "      <td>in-store</td>\n",
       "      <td>4671.88</td>\n",
       "      <td>2024-05-16</td>\n",
       "      <td>2024-05-22</td>\n",
       "      <td>2024-05-20</td>\n",
       "      <td>express</td>\n",
       "      <td>good</td>\n",
       "    </tr>\n",
       "    <tr>\n",
       "      <th>170816</th>\n",
       "      <td>18</td>\n",
       "      <td>F</td>\n",
       "      <td>2024-01-20</td>\n",
       "      <td>YES</td>\n",
       "      <td>3</td>\n",
       "      <td>3.0</td>\n",
       "      <td>7.0</td>\n",
       "      <td>0.0</td>\n",
       "      <td>1</td>\n",
       "      <td>groceries</td>\n",
       "      <td>...</td>\n",
       "      <td>shopeepay</td>\n",
       "      <td>2024-10-13 18:32:52</td>\n",
       "      <td>2024-10-13 18:32:52</td>\n",
       "      <td>in-store</td>\n",
       "      <td>2584.00</td>\n",
       "      <td>2024-10-20</td>\n",
       "      <td>2024-10-27</td>\n",
       "      <td>2024-10-27</td>\n",
       "      <td>express</td>\n",
       "      <td>good</td>\n",
       "    </tr>\n",
       "    <tr>\n",
       "      <th>181466</th>\n",
       "      <td>60</td>\n",
       "      <td>O</td>\n",
       "      <td>2022-07-21</td>\n",
       "      <td>NO</td>\n",
       "      <td>3</td>\n",
       "      <td>0.0</td>\n",
       "      <td>0.0</td>\n",
       "      <td>0.0</td>\n",
       "      <td>5</td>\n",
       "      <td>furniture</td>\n",
       "      <td>...</td>\n",
       "      <td>cash</td>\n",
       "      <td>2024-11-10 09:40:02</td>\n",
       "      <td>2024-11-10 09:40:02</td>\n",
       "      <td>in-store</td>\n",
       "      <td>1472.00</td>\n",
       "      <td>2024-11-14</td>\n",
       "      <td>2024-11-18</td>\n",
       "      <td>2024-11-17</td>\n",
       "      <td>express</td>\n",
       "      <td>good</td>\n",
       "    </tr>\n",
       "    <tr>\n",
       "      <th>187424</th>\n",
       "      <td>57</td>\n",
       "      <td>O</td>\n",
       "      <td>2024-03-21</td>\n",
       "      <td>YES</td>\n",
       "      <td>4</td>\n",
       "      <td>2.0</td>\n",
       "      <td>5.0</td>\n",
       "      <td>5.0</td>\n",
       "      <td>5</td>\n",
       "      <td>toys</td>\n",
       "      <td>...</td>\n",
       "      <td>mastercard_c</td>\n",
       "      <td>2024-11-24 01:56:32</td>\n",
       "      <td>2024-11-24 01:56:32</td>\n",
       "      <td>in-store</td>\n",
       "      <td>392.75</td>\n",
       "      <td>2024-11-30</td>\n",
       "      <td>2024-12-07</td>\n",
       "      <td>2024-12-07</td>\n",
       "      <td>express</td>\n",
       "      <td>good</td>\n",
       "    </tr>\n",
       "  </tbody>\n",
       "</table>\n",
       "<p>12 rows × 21 columns</p>\n",
       "</div>"
      ],
      "text/plain": [
       "        age Gender Date_Registered Is_current_loyalty_program_member  \\\n",
       "14559    42      F      2020-05-13                                NO   \n",
       "20151    27      M      2022-01-08                                NO   \n",
       "28656    18      F      2021-01-25                               YES   \n",
       "53426    39      O      2020-09-24                               YES   \n",
       "80225    53      O      2023-02-24                               YES   \n",
       "93722    29      M      2023-07-01                               YES   \n",
       "104620   19      M      2023-04-18                                NO   \n",
       "120427   26      M      2024-02-03                                NO   \n",
       "126418   50      O      2022-09-26                               YES   \n",
       "170816   18      F      2024-01-20                               YES   \n",
       "181466   60      O      2022-07-21                                NO   \n",
       "187424   57      O      2024-03-21                               YES   \n",
       "\n",
       "        loyalty_points_redeemed  loyalty_tier  \\\n",
       "14559                         5           0.0   \n",
       "20151                         0           0.0   \n",
       "28656                         4           3.0   \n",
       "53426                         3           2.0   \n",
       "80225                         1           1.0   \n",
       "93722                         1           1.0   \n",
       "104620                        2           0.0   \n",
       "120427                        1           0.0   \n",
       "126418                        0           3.0   \n",
       "170816                        3           3.0   \n",
       "181466                        3           0.0   \n",
       "187424                        4           2.0   \n",
       "\n",
       "        Received_tier_discount_percentage  Received_card_discount_percentage  \\\n",
       "14559                                 0.0                                5.0   \n",
       "20151                                 0.0                                0.0   \n",
       "28656                                 7.0                                0.0   \n",
       "53426                                 5.0                                0.0   \n",
       "80225                                 3.0                                1.0   \n",
       "93722                                 3.0                                0.0   \n",
       "104620                                0.0                                2.0   \n",
       "120427                                0.0                                0.0   \n",
       "126418                                7.0                                1.0   \n",
       "170816                                7.0                                0.0   \n",
       "181466                                0.0                                0.0   \n",
       "187424                                5.0                                5.0   \n",
       "\n",
       "        Received_coupon_discount_percentage product_category  ...  \\\n",
       "14559                                     2     pet supplies  ...   \n",
       "20151                                     1            music  ...   \n",
       "28656                                     4     pet supplies  ...   \n",
       "53426                                     3         clothing  ...   \n",
       "80225                                     1           health  ...   \n",
       "93722                                     4         clothing  ...   \n",
       "104620                                    2         clothing  ...   \n",
       "120427                                    0             toys  ...   \n",
       "126418                                    0  office supplies  ...   \n",
       "170816                                    1        groceries  ...   \n",
       "181466                                    5        furniture  ...   \n",
       "187424                                    5             toys  ...   \n",
       "\n",
       "        payment_method     payment_datetime   purchased_datetime  \\\n",
       "14559           visa_c  2021-10-06 08:32:51  2021-10-06 08:32:51   \n",
       "20151             cash  2022-01-16 02:22:24  2022-01-16 02:22:24   \n",
       "28656        shopeepay  2022-05-23 09:42:22  2022-05-23 09:42:22   \n",
       "53426           visa_d  2023-02-18 05:18:00  2023-02-18 05:18:00   \n",
       "80225     mastercard_c  2023-09-11 15:10:35  2023-09-11 15:10:35   \n",
       "93722     mastercard_d  2023-12-03 03:04:26  2023-12-03 03:04:26   \n",
       "104620            amex  2024-01-30 23:08:26  2024-01-30 23:08:26   \n",
       "120427           gcash  2024-04-15 11:27:51  2024-04-15 11:27:51   \n",
       "126418            amex  2024-05-11 09:47:44  2024-05-11 09:47:44   \n",
       "170816       shopeepay  2024-10-13 18:32:52  2024-10-13 18:32:52   \n",
       "181466            cash  2024-11-10 09:40:02  2024-11-10 09:40:02   \n",
       "187424    mastercard_c  2024-11-24 01:56:32  2024-11-24 01:56:32   \n",
       "\n",
       "       purchase_medium final_payment  released_date estimated_delivery_date  \\\n",
       "14559           online       4820.00     2021-10-12              2021-10-19   \n",
       "20151           online       5914.00     2022-01-20              2022-01-23   \n",
       "28656           online       5914.00     2022-05-26              2022-05-30   \n",
       "53426           online       3235.00     2023-02-23              2023-02-25   \n",
       "80225           online       5073.85     2023-09-18              2023-09-23   \n",
       "93722           online       2196.00     2023-12-08              2023-12-14   \n",
       "104620        in-store       6184.00     2024-02-02              2024-02-05   \n",
       "120427          online       2110.00     2024-04-20              2024-04-21   \n",
       "126418        in-store       4671.88     2024-05-16              2024-05-22   \n",
       "170816        in-store       2584.00     2024-10-20              2024-10-27   \n",
       "181466        in-store       1472.00     2024-11-14              2024-11-18   \n",
       "187424        in-store        392.75     2024-11-30              2024-12-07   \n",
       "\n",
       "       received_date shipping_method customer_experience  \n",
       "14559     2021-10-16        standard                good  \n",
       "20151     2022-01-20         express                 bad  \n",
       "28656     2022-05-27         express                 bad  \n",
       "53426     2023-02-26         express                good  \n",
       "80225     2023-09-20        standard                 bad  \n",
       "93722     2023-12-13         express             neutral  \n",
       "104620    2024-02-03         express                good  \n",
       "120427    2024-04-18        standard                good  \n",
       "126418    2024-05-20         express                good  \n",
       "170816    2024-10-27         express                good  \n",
       "181466    2024-11-17         express                good  \n",
       "187424    2024-12-07         express                good  \n",
       "\n",
       "[12 rows x 21 columns]"
      ]
     },
     "execution_count": 43,
     "metadata": {},
     "output_type": "execute_result"
    }
   ],
   "source": [
    "train_set[train_set.duplicated()]"
   ]
  },
  {
   "cell_type": "markdown",
   "id": "9c43a464",
   "metadata": {},
   "source": [
    "- Loại bỏ trùng lặp"
   ]
  },
  {
   "cell_type": "code",
   "execution_count": 44,
   "id": "b1d46b19",
   "metadata": {},
   "outputs": [],
   "source": [
    "train_set.drop_duplicates(inplace=True)"
   ]
  },
  {
   "cell_type": "code",
   "execution_count": 45,
   "id": "117276ce",
   "metadata": {},
   "outputs": [
    {
     "name": "stdout",
     "output_type": "stream",
     "text": [
      "<class 'pandas.core.frame.DataFrame'>\n",
      "Index: 206957 entries, 0 to 206968\n",
      "Data columns (total 21 columns):\n",
      " #   Column                               Non-Null Count   Dtype  \n",
      "---  ------                               --------------   -----  \n",
      " 0   age                                  206957 non-null  int64  \n",
      " 1   Gender                               206957 non-null  object \n",
      " 2   Date_Registered                      206957 non-null  object \n",
      " 3   Is_current_loyalty_program_member    206957 non-null  object \n",
      " 4   loyalty_points_redeemed              206957 non-null  int64  \n",
      " 5   loyalty_tier                         206957 non-null  float64\n",
      " 6   Received_tier_discount_percentage    206957 non-null  float64\n",
      " 7   Received_card_discount_percentage    206957 non-null  float64\n",
      " 8   Received_coupon_discount_percentage  206957 non-null  int64  \n",
      " 9   product_category                     206957 non-null  object \n",
      " 10  Product_value                        206957 non-null  int64  \n",
      " 11  payment_method                       206957 non-null  object \n",
      " 12  payment_datetime                     206957 non-null  object \n",
      " 13  purchased_datetime                   206957 non-null  object \n",
      " 14  purchase_medium                      206957 non-null  object \n",
      " 15  final_payment                        206957 non-null  float64\n",
      " 16  released_date                        206957 non-null  object \n",
      " 17  estimated_delivery_date              206957 non-null  object \n",
      " 18  received_date                        206957 non-null  object \n",
      " 19  shipping_method                      206957 non-null  object \n",
      " 20  customer_experience                  206957 non-null  object \n",
      "dtypes: float64(4), int64(4), object(13)\n",
      "memory usage: 34.7+ MB\n"
     ]
    }
   ],
   "source": [
    "train_set.info()"
   ]
  },
  {
   "cell_type": "markdown",
   "id": "ec1cd511",
   "metadata": {},
   "source": [
    "####  2.2 Chuẩn hóa dữ liệu"
   ]
  },
  {
   "cell_type": "code",
   "execution_count": 46,
   "id": "84167b53",
   "metadata": {},
   "outputs": [],
   "source": [
    "train_set['Gender'] = train_set['Gender'].replace({\n",
    "    'O': 'Other',\n",
    "    'F': 'Female',\n",
    "    'M': 'Male'\n",
    "})\n"
   ]
  },
  {
   "cell_type": "code",
   "execution_count": 47,
   "id": "ea9a8f82",
   "metadata": {},
   "outputs": [],
   "source": [
    "train_set['payment_method'] = train_set['payment_method'].replace({\n",
    "    'amex': 'American Expres',\n",
    "    'visa_c': 'Credit Card',\n",
    "    'mastercard_c':'Credit Card',\n",
    "    'visa_d': 'Debit Card',\n",
    "    'mastercard_d': 'Debit Card',\n",
    "    'gcash':'G-cash',\n",
    "    'maya':'Maya',\n",
    "    'coinsph':'Coin-Sph',\n",
    "    'grabpay':'Grab-Pay',\n",
    "    'shopeepay':'Shopee-Pay'\n",
    "})"
   ]
  },
  {
   "cell_type": "code",
   "execution_count": 48,
   "id": "3ba10689",
   "metadata": {},
   "outputs": [
    {
     "name": "stdout",
     "output_type": "stream",
     "text": [
      "Nhãn dữ liệu từ Gender: ['Other' 'Female' 'Male']\n",
      "Nhãn dữ liệu từ Is_current_loyalty_program_member: ['NO' 'YES']\n",
      "Nhãn dữ liệu từ loyalty_points_redeemed: [5 4 3 1 0 2]\n",
      "Nhãn dữ liệu từ loyalty_tier: [0. 1. 2. 4. 3.]\n",
      "Nhãn dữ liệu từ payment_method: ['Credit Card' 'American Expres' 'Coin-Sph' 'Debit Card' 'G-cash' 'Maya'\n",
      " 'cash' 'bank_transfer' 'Shopee-Pay' 'otc' 'Grab-Pay']\n",
      "Nhãn dữ liệu từ purchase_medium: ['online' 'in-store']\n",
      "Nhãn dữ liệu từ shipping_method: ['standard' 'express']\n",
      "Nhãn dữ liệu từ customer_experience: ['neutral' 'bad' 'good']\n"
     ]
    }
   ],
   "source": [
    "for item in columns:\n",
    "    print(f\"Nhãn dữ liệu từ {item}:\", train_set[item].unique())"
   ]
  },
  {
   "cell_type": "markdown",
   "id": "7d54123b",
   "metadata": {},
   "source": [
    "####  2.3 Loại bỏ dữ liệu ngoại lai"
   ]
  },
  {
   "cell_type": "code",
   "execution_count": 49,
   "id": "8d76e5b2",
   "metadata": {},
   "outputs": [
    {
     "name": "stdout",
     "output_type": "stream",
     "text": [
      "<class 'pandas.core.frame.DataFrame'>\n",
      "Index: 206957 entries, 0 to 206968\n",
      "Data columns (total 21 columns):\n",
      " #   Column                               Non-Null Count   Dtype  \n",
      "---  ------                               --------------   -----  \n",
      " 0   age                                  206957 non-null  int64  \n",
      " 1   Gender                               206957 non-null  object \n",
      " 2   Date_Registered                      206957 non-null  object \n",
      " 3   Is_current_loyalty_program_member    206957 non-null  object \n",
      " 4   loyalty_points_redeemed              206957 non-null  int64  \n",
      " 5   loyalty_tier                         206957 non-null  float64\n",
      " 6   Received_tier_discount_percentage    206957 non-null  float64\n",
      " 7   Received_card_discount_percentage    206957 non-null  float64\n",
      " 8   Received_coupon_discount_percentage  206957 non-null  int64  \n",
      " 9   product_category                     206957 non-null  object \n",
      " 10  Product_value                        206957 non-null  int64  \n",
      " 11  payment_method                       206957 non-null  object \n",
      " 12  payment_datetime                     206957 non-null  object \n",
      " 13  purchased_datetime                   206957 non-null  object \n",
      " 14  purchase_medium                      206957 non-null  object \n",
      " 15  final_payment                        206957 non-null  float64\n",
      " 16  released_date                        206957 non-null  object \n",
      " 17  estimated_delivery_date              206957 non-null  object \n",
      " 18  received_date                        206957 non-null  object \n",
      " 19  shipping_method                      206957 non-null  object \n",
      " 20  customer_experience                  206957 non-null  object \n",
      "dtypes: float64(4), int64(4), object(13)\n",
      "memory usage: 34.7+ MB\n"
     ]
    }
   ],
   "source": [
    "train_set.info()"
   ]
  },
  {
   "cell_type": "markdown",
   "id": "872f9a75",
   "metadata": {},
   "source": [
    "- Interquartile Range"
   ]
  },
  {
   "cell_type": "code",
   "execution_count": 50,
   "id": "f7adfa53",
   "metadata": {},
   "outputs": [],
   "source": [
    "def Interquartile_Range(data,Quartile):\n",
    "    Q1 = data[Quartile].quantile(0.25)\n",
    "    Q3 = data[Quartile].quantile(0.75)\n",
    "    Iqr = Q3 - Q1\n",
    "    data_clean = data[(data[Quartile] >= Q1 - 1.5 * Iqr) & (data[Quartile] <= Q3 + 1.5 * Iqr)]\n",
    "    return data_clean"
   ]
  },
  {
   "cell_type": "code",
   "execution_count": 51,
   "id": "6dc4d3cc",
   "metadata": {},
   "outputs": [],
   "source": [
    "train_set = Interquartile_Range(train_set, Quartile='Product_value')\n",
    "train_set = Interquartile_Range(train_set, Quartile='final_payment')\n"
   ]
  },
  {
   "cell_type": "code",
   "execution_count": 52,
   "id": "e7841d1d",
   "metadata": {},
   "outputs": [
    {
     "data": {
      "image/png": "[encoded data removed]",
      "text/plain": [
       "<Figure size 1200x500 with 2 Axes>"
      ]
     },
     "metadata": {},
     "output_type": "display_data"
    }
   ],
   "source": [
    "fig, axes = plt.subplots(1, 2, figsize=(12, 5))\n",
    "sns.histplot(train_set['Product_value'], bins=50, kde=True, ax=axes[0], color='orange')\n",
    "axes[0].set_title('Histogram Giá sản phẩm')\n",
    "sns.histplot(train_set['final_payment'], bins=50, kde=True, ax=axes[1], color='skyblue')\n",
    "axes[1].set_title('Boxplot Giá thanh toán')\n",
    "plt.tight_layout()\n",
    "plt.show()"
   ]
  },
  {
   "cell_type": "code",
   "execution_count": 53,
   "id": "9fd7d79b",
   "metadata": {},
   "outputs": [
    {
     "data": {
      "image/png": "[encoded data removed]",
      "text/plain": [
       "<Figure size 1200x500 with 2 Axes>"
      ]
     },
     "metadata": {},
     "output_type": "display_data"
    }
   ],
   "source": [
    "fig, axes = plt.subplots(1, 2, figsize=(12, 5))\n",
    "sns.histplot(train_set['loyalty_points_redeemed'], kde=True, ax=axes[0], color='orange')\n",
    "axes[0].set_title('Histogram Điểm Thưởng')\n",
    "axes[0].set_ylim(33000,36500) \n",
    "sns.histplot(train_set['age'], bins=50, kde=True, ax=axes[1], color='skyblue')\n",
    "axes[1].set_title('Histogram độ tuổi khách hàng')\n",
    "plt.tight_layout()\n",
    "plt.show()"
   ]
  },
  {
   "cell_type": "markdown",
   "id": "2c5a3d89",
   "metadata": {},
   "source": [
    "####  2.4 Feature Engineering"
   ]
  },
  {
   "cell_type": "markdown",
   "id": "36a6c493",
   "metadata": {},
   "source": [
    "- Phân loại độ tuổi"
   ]
  },
  {
   "cell_type": "code",
   "execution_count": 54,
   "id": "bc37f4b5",
   "metadata": {},
   "outputs": [],
   "source": [
    "ranks = [0,10,15,20,30,45,100]\n",
    "labels_age = ['Children' , 'Adolescent' , 'Teenager', 'Adult', 'Middle', 'Elderly']"
   ]
  },
  {
   "cell_type": "code",
   "execution_count": 55,
   "id": "71305882",
   "metadata": {},
   "outputs": [],
   "source": [
    "train_set['Age-Group'] = pd.cut(train_set['age'], bins=ranks, labels=labels_age)"
   ]
  },
  {
   "cell_type": "markdown",
   "id": "195ea311",
   "metadata": {},
   "source": [
    "- Dữ liệu ID"
   ]
  },
  {
   "cell_type": "code",
   "execution_count": 56,
   "id": "516ec4f9",
   "metadata": {},
   "outputs": [],
   "source": [
    "Counter_id = user_id.value_counts()"
   ]
  },
  {
   "cell_type": "code",
   "execution_count": 57,
   "id": "be2f5313",
   "metadata": {},
   "outputs": [
    {
     "data": {
      "text/plain": [
       "count    186931.000000\n",
       "mean          1.107195\n",
       "std           0.333045\n",
       "min           1.000000\n",
       "25%           1.000000\n",
       "50%           1.000000\n",
       "75%           1.000000\n",
       "max           5.000000\n",
       "Name: count, dtype: float64"
      ]
     },
     "execution_count": 57,
     "metadata": {},
     "output_type": "execute_result"
    }
   ],
   "source": [
    "Counter_id.describe()"
   ]
  },
  {
   "cell_type": "code",
   "execution_count": 58,
   "id": "01238ba4",
   "metadata": {},
   "outputs": [
    {
     "data": {
      "text/plain": [
       "count     206969\n",
       "unique    186931\n",
       "top       256449\n",
       "freq           5\n",
       "Name: user_id, dtype: object"
      ]
     },
     "execution_count": 58,
     "metadata": {},
     "output_type": "execute_result"
    }
   ],
   "source": [
    "user_id.describe()"
   ]
  },
  {
   "cell_type": "markdown",
   "id": "dec3bdd1",
   "metadata": {},
   "source": [
    "####  2.5 Chuyển dữ liệu ngày"
   ]
  },
  {
   "cell_type": "code",
   "execution_count": 61,
   "id": "c285f654",
   "metadata": {},
   "outputs": [],
   "source": [
    "date_time = ['released_date', 'received_date', 'Date_Registered','payment_datetime',\n",
    "            'purchased_datetime', 'estimated_delivery_date']"
   ]
  },
  {
   "cell_type": "code",
   "execution_count": 62,
   "id": "6f053034",
   "metadata": {},
   "outputs": [],
   "source": [
    "for item in date_time:\n",
    "    train_set[item] = pd.to_datetime(train_set[item])\n"
   ]
  },
  {
   "cell_type": "markdown",
   "id": "408ecb48",
   "metadata": {},
   "source": [
    "### **3. Save Data** "
   ]
  },
  {
   "cell_type": "code",
   "execution_count": 66,
   "id": "a58bbc6a",
   "metadata": {},
   "outputs": [],
   "source": [
    "train_set.to_csv('Train_clean.csv', index=False, encoding='utf-8')"
   ]
  }
 ],
 "metadata": {
  "kernelspec": {
   "display_name": "base",
   "language": "python",
   "name": "python3"
  },
  "language_info": {
   "codemirror_mode": {
    "name": "ipython",
    "version": 3
   },
   "file_extension": ".py",
   "mimetype": "text/x-python",
   "name": "python",
   "nbconvert_exporter": "python",
   "pygments_lexer": "ipython3",
   "version": "3.12.7"
  }
 },
 "nbformat": 4,
 "nbformat_minor": 5
}
