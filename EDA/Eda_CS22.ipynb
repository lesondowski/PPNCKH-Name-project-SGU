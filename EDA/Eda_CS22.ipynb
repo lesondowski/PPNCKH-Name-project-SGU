{
 "cells": [
  {
   "cell_type": "markdown",
   "id": "4527dafe",
   "metadata": {},
   "source": [
    "### **Introduction**"
   ]
  },
  {
   "cell_type": "markdown",
   "id": "ae71a6c0",
   "metadata": {},
   "source": [
    "#### Các kĩ thuật EDA được sử dụng trong notebook này bao gồm: \n",
    "1. Descriptive Statistics (Thống kê mô tả)\n",
    "\n",
    "2. Visualization Techniques\n",
    "\n",
    "3. Phân tích phân phối & tương quan\n",
    "\n",
    "4. Roll-up / Drill-down\n",
    "\n",
    "\n",
    "\n",
    "\n",
    "\n"
   ]
  },
  {
   "cell_type": "code",
   "execution_count": null,
   "id": "bab7b168",
   "metadata": {},
   "outputs": [],
   "source": []
  },
  {
   "cell_type": "markdown",
   "id": "1bdf7091",
   "metadata": {},
   "source": [
    "### **Import**"
   ]
  },
  {
   "cell_type": "code",
   "execution_count": 1,
   "id": "58d87d7c",
   "metadata": {},
   "outputs": [],
   "source": [
    "import pandas as pd\n",
    "import matplotlib.pyplot as plt\n",
    "import numpy as np\n",
    "import seaborn as sns\n"
   ]
  },
  {
   "cell_type": "code",
   "execution_count": 4,
   "id": "56005ab1",
   "metadata": {},
   "outputs": [],
   "source": [
    "df_train = pd.read_csv('../Data/Train_clean.csv')"
   ]
  },
  {
   "cell_type": "code",
   "execution_count": 8,
   "id": "d1305bf1",
   "metadata": {},
   "outputs": [
    {
     "name": "stdout",
     "output_type": "stream",
     "text": [
      "<class 'pandas.core.frame.DataFrame'>\n",
      "RangeIndex: 205255 entries, 0 to 205254\n",
      "Data columns (total 22 columns):\n",
      " #   Column                               Non-Null Count   Dtype  \n",
      "---  ------                               --------------   -----  \n",
      " 0   age                                  205255 non-null  int64  \n",
      " 1   Gender                               205255 non-null  object \n",
      " 2   Date_Registered                      205255 non-null  object \n",
      " 3   Is_current_loyalty_program_member    205255 non-null  object \n",
      " 4   loyalty_points_redeemed              205255 non-null  int64  \n",
      " 5   loyalty_tier                         205255 non-null  float64\n",
      " 6   Received_tier_discount_percentage    205255 non-null  float64\n",
      " 7   Received_card_discount_percentage    205255 non-null  float64\n",
      " 8   Received_coupon_discount_percentage  205255 non-null  int64  \n",
      " 9   product_category                     205255 non-null  object \n",
      " 10  Product_value                        205255 non-null  int64  \n",
      " 11  payment_method                       205255 non-null  object \n",
      " 12  payment_datetime                     205255 non-null  object \n",
      " 13  purchased_datetime                   205255 non-null  object \n",
      " 14  purchase_medium                      205255 non-null  object \n",
      " 15  final_payment                        205255 non-null  float64\n",
      " 16  released_date                        205255 non-null  object \n",
      " 17  estimated_delivery_date              205255 non-null  object \n",
      " 18  received_date                        205255 non-null  object \n",
      " 19  shipping_method                      205255 non-null  object \n",
      " 20  customer_experience                  205255 non-null  object \n",
      " 21  Age-Group                            203966 non-null  object \n",
      "dtypes: float64(4), int64(4), object(14)\n",
      "memory usage: 34.5+ MB\n"
     ]
    }
   ],
   "source": [
    "df_train.info()"
   ]
  },
  {
   "cell_type": "markdown",
   "metadata": {},
   "source": [
    "### **1. Descriptive Statistics** "
   ]
  },
  {
   "cell_type": "code",
   "execution_count": null,
   "id": "81caa505",
   "metadata": {},
   "outputs": [],
   "source": []
  },
  {
   "cell_type": "code",
   "execution_count": 5,
   "id": "d64b6f8e",
   "metadata": {},
   "outputs": [
    {
     "ename": "NameError",
     "evalue": "name 'train_set' is not defined",
     "output_type": "error",
     "traceback": [
      "\u001b[31m---------------------------------------------------------------------------\u001b[39m",
      "\u001b[31mNameError\u001b[39m                                 Traceback (most recent call last)",
      "\u001b[36mCell\u001b[39m\u001b[36m \u001b[39m\u001b[32mIn[5]\u001b[39m\u001b[32m, line 2\u001b[39m\n\u001b[32m      1\u001b[39m fig, axes = plt.subplots(\u001b[32m1\u001b[39m, \u001b[32m2\u001b[39m, figsize=(\u001b[32m12\u001b[39m, \u001b[32m5\u001b[39m))\n\u001b[32m----> \u001b[39m\u001b[32m2\u001b[39m sns.histplot(\u001b[43mtrain_set\u001b[49m[\u001b[33m'\u001b[39m\u001b[33mProduct_value\u001b[39m\u001b[33m'\u001b[39m], bins=\u001b[32m50\u001b[39m, kde=\u001b[38;5;28;01mTrue\u001b[39;00m, ax=axes[\u001b[32m0\u001b[39m], color=\u001b[33m'\u001b[39m\u001b[33morange\u001b[39m\u001b[33m'\u001b[39m)\n\u001b[32m      3\u001b[39m axes[\u001b[32m0\u001b[39m].set_title(\u001b[33m'\u001b[39m\u001b[33mHistogram Giá sản phẩm\u001b[39m\u001b[33m'\u001b[39m)\n\u001b[32m      4\u001b[39m sns.histplot(train_set[\u001b[33m'\u001b[39m\u001b[33mfinal_payment\u001b[39m\u001b[33m'\u001b[39m], bins=\u001b[32m50\u001b[39m, kde=\u001b[38;5;28;01mTrue\u001b[39;00m, ax=axes[\u001b[32m1\u001b[39m], color=\u001b[33m'\u001b[39m\u001b[33mskyblue\u001b[39m\u001b[33m'\u001b[39m)\n",
      "\u001b[31mNameError\u001b[39m: name 'train_set' is not defined"
     ]
    },
    {
     "data": {
      "image/png": "[encoded data removed]",
      "text/plain": [
       "<Figure size 1200x500 with 2 Axes>"
      ]
     },
     "metadata": {},
     "output_type": "display_data"
    }
   ],
   "source": [
    "fig, axes = plt.subplots(1, 2, figsize=(12, 5))\n",
    "sns.histplot(train_set['Product_value'], bins=50, kde=True, ax=axes[0], color='orange')\n",
    "axes[0].set_title('Histogram Giá sản phẩm')\n",
    "sns.histplot(train_set['final_payment'], bins=50, kde=True, ax=axes[1], color='skyblue')\n",
    "axes[1].set_title('Boxplot Giá thanh toán')\n",
    "plt.tight_layout()\n",
    "plt.show()"
   ]
  },
  {
   "cell_type": "code",
   "execution_count": null,
   "id": "f4ba39db",
   "metadata": {},
   "outputs": [],
   "source": []
  },
  {
   "cell_type": "code",
   "execution_count": null,
   "id": "bcb7385d",
   "metadata": {},
   "outputs": [],
   "source": []
  },
  {
   "cell_type": "code",
   "execution_count": null,
   "id": "a21134fb",
   "metadata": {},
   "outputs": [],
   "source": []
  },
  {
   "cell_type": "code",
   "execution_count": null,
   "id": "0105cddd",
   "metadata": {},
   "outputs": [],
   "source": []
  }
 ],
 "metadata": {
  "kernelspec": {
   "display_name": "base",
   "language": "python",
   "name": "python3"
  },
  "language_info": {
   "codemirror_mode": {
    "name": "ipython",
    "version": 3
   },
   "file_extension": ".py",
   "mimetype": "text/x-python",
   "name": "python",
   "nbconvert_exporter": "python",
   "pygments_lexer": "ipython3",
   "version": "3.12.7"
  }
 },
 "nbformat": 4,
 "nbformat_minor": 5
}
