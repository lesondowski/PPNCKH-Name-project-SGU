{
 "cells": [
  {
   "cell_type": "code",
   "execution_count": 52,
   "id": "363233d1",
   "metadata": {
    "_cell_guid": "b1076dfc-b9ad-4769-8c92-a6c4dae69d19",
    "_uuid": "8f2839f25d086af736a60e9eeb907d3b93b6e0e5",
    "execution": {
     "iopub.execute_input": "2025-01-17T13:29:01.874426Z",
     "iopub.status.busy": "2025-01-17T13:29:01.874094Z",
     "iopub.status.idle": "2025-01-17T13:29:02.821856Z",
     "shell.execute_reply": "2025-01-17T13:29:02.820588Z"
    },
    "papermill": {
     "duration": 0.9765,
     "end_time": "2025-01-17T13:29:02.824113",
     "exception": false,
     "start_time": "2025-01-17T13:29:01.847613",
     "status": "completed"
    },
    "tags": []
   },
   "outputs": [],
   "source": [
    "import numpy as np\n",
    "import pandas as pd \n",
    "from sklearn.metrics import classification_report, confusion_matrix, accuracy_score, f1_score\n",
    "from sklearn.ensemble import RandomForestClassifier, GradientBoostingClassifier\n",
    "from sklearn.svm import SVC\n",
    "from lightgbm import LGBMClassifier\n",
    "from sklearn.neural_network import MLPClassifier\n",
    "\n"
   ]
  },
  {
   "cell_type": "markdown",
   "id": "c410a43b",
   "metadata": {
    "papermill": {
     "duration": 0.024283,
     "end_time": "2025-01-17T13:29:02.879778",
     "exception": false,
     "start_time": "2025-01-17T13:29:02.855495",
     "status": "completed"
    },
    "tags": []
   },
   "source": [
    "#### Data Import"
   ]
  },
  {
   "cell_type": "code",
   "execution_count": 53,
   "id": "395894ab",
   "metadata": {
    "execution": {
     "iopub.execute_input": "2025-01-17T13:29:02.982183Z",
     "iopub.status.busy": "2025-01-17T13:29:02.981694Z",
     "iopub.status.idle": "2025-01-17T13:29:06.225014Z",
     "shell.execute_reply": "2025-01-17T13:29:06.223833Z"
    },
    "papermill": {
     "duration": 3.27199,
     "end_time": "2025-01-17T13:29:06.227156",
     "exception": false,
     "start_time": "2025-01-17T13:29:02.955166",
     "status": "completed"
    },
    "tags": []
   },
   "outputs": [],
   "source": [
    "data = pd.read_csv('D:/Deep_Learning/Keras/PPNCKH/Data Preprocessing/train_dataset.csv')\n",
    "test = pd.read_csv('D:/Deep_Learning/Keras/PPNCKH/Data Preprocessing/test_dataset.csv')"
   ]
  },
  {
   "cell_type": "markdown",
   "id": "a20454eb",
   "metadata": {
    "papermill": {
     "duration": 0.025304,
     "end_time": "2025-01-17T13:29:08.764147",
     "exception": false,
     "start_time": "2025-01-17T13:29:08.738843",
     "status": "completed"
    },
    "tags": []
   },
   "source": [
    "####  Date Time"
   ]
  },
  {
   "cell_type": "code",
   "execution_count": 54,
   "id": "0f58c771",
   "metadata": {
    "execution": {
     "iopub.execute_input": "2025-01-17T13:29:08.817759Z",
     "iopub.status.busy": "2025-01-17T13:29:08.817375Z",
     "iopub.status.idle": "2025-01-17T13:29:09.213591Z",
     "shell.execute_reply": "2025-01-17T13:29:09.212297Z"
    },
    "papermill": {
     "duration": 0.425741,
     "end_time": "2025-01-17T13:29:09.215507",
     "exception": false,
     "start_time": "2025-01-17T13:29:08.789766",
     "status": "completed"
    },
    "tags": []
   },
   "outputs": [],
   "source": [
    "def date_time(df):\n",
    "    date_columns = ['Date_Registered', 'payment_datetime', 'purchased_datetime', \n",
    "                    'released_date', 'estimated_delivery_date', 'received_date']\n",
    "    for col in date_columns:\n",
    "        if col in df.columns:\n",
    "            df[col] = pd.to_datetime(df[col], errors='coerce')\n",
    "\n",
    "    return df\n",
    "\n",
    "data = date_time(data)\n",
    "test= date_time(test)"
   ]
  },
  {
   "cell_type": "code",
   "execution_count": 56,
   "id": "8ad6b6fa",
   "metadata": {
    "execution": {
     "iopub.execute_input": "2025-01-17T13:29:09.810006Z",
     "iopub.status.busy": "2025-01-17T13:29:09.809530Z",
     "iopub.status.idle": "2025-01-17T13:29:10.202411Z",
     "shell.execute_reply": "2025-01-17T13:29:10.201159Z"
    },
    "papermill": {
     "duration": 0.423614,
     "end_time": "2025-01-17T13:29:10.204475",
     "exception": false,
     "start_time": "2025-01-17T13:29:09.780861",
     "status": "completed"
    },
    "tags": []
   },
   "outputs": [],
   "source": [
    "# Remove rows that are duplicates when excluding the 'id' column\n",
    "data = data[~data.drop(columns=['id']).duplicated()]"
   ]
  },
  {
   "cell_type": "code",
   "execution_count": 57,
   "id": "93072310",
   "metadata": {
    "execution": {
     "iopub.execute_input": "2025-01-17T13:29:10.258484Z",
     "iopub.status.busy": "2025-01-17T13:29:10.258155Z",
     "iopub.status.idle": "2025-01-17T13:29:10.373689Z",
     "shell.execute_reply": "2025-01-17T13:29:10.372728Z"
    },
    "papermill": {
     "duration": 0.144456,
     "end_time": "2025-01-17T13:29:10.375384",
     "exception": false,
     "start_time": "2025-01-17T13:29:10.230928",
     "status": "completed"
    },
    "tags": []
   },
   "outputs": [
    {
     "data": {
      "text/plain": [
       "id                                          0\n",
       "user_id                                     0\n",
       "age                                         0\n",
       "Gender                                      0\n",
       "Date_Registered                             0\n",
       "Is_current_loyalty_program_member           0\n",
       "loyalty_points_redeemed                     0\n",
       "loyalty_tier                           102062\n",
       "Received_tier_discount_percentage      103374\n",
       "Received_card_discount_percentage      156872\n",
       "Received_coupon_discount_percentage         0\n",
       "product_category                            0\n",
       "Product_value                               0\n",
       "transaction_id                              0\n",
       "order_id                                    0\n",
       "payment_method                              0\n",
       "payment_datetime                            0\n",
       "purchased_datetime                          0\n",
       "purchase_medium                             0\n",
       "final_payment                               0\n",
       "released_date                               0\n",
       "estimated_delivery_date                     0\n",
       "received_date                               0\n",
       "shipping_method                             0\n",
       "tracking_number                             0\n",
       "customer_experience                         0\n",
       "dtype: int64"
      ]
     },
     "execution_count": 57,
     "metadata": {},
     "output_type": "execute_result"
    }
   ],
   "source": [
    "data.isnull().sum()"
   ]
  },
  {
   "cell_type": "code",
   "execution_count": 58,
   "id": "ffce0ff6",
   "metadata": {
    "execution": {
     "iopub.execute_input": "2025-01-17T13:29:10.430649Z",
     "iopub.status.busy": "2025-01-17T13:29:10.430258Z",
     "iopub.status.idle": "2025-01-17T13:29:10.473591Z",
     "shell.execute_reply": "2025-01-17T13:29:10.472461Z"
    },
    "papermill": {
     "duration": 0.073619,
     "end_time": "2025-01-17T13:29:10.475666",
     "exception": false,
     "start_time": "2025-01-17T13:29:10.402047",
     "status": "completed"
    },
    "tags": []
   },
   "outputs": [],
   "source": [
    "data = data[data['age'] > 0]"
   ]
  },
  {
   "cell_type": "code",
   "execution_count": 59,
   "id": "6620bf9a",
   "metadata": {
    "execution": {
     "iopub.execute_input": "2025-01-17T13:29:10.530206Z",
     "iopub.status.busy": "2025-01-17T13:29:10.529815Z",
     "iopub.status.idle": "2025-01-17T13:29:10.550965Z",
     "shell.execute_reply": "2025-01-17T13:29:10.549735Z"
    },
    "papermill": {
     "duration": 0.050772,
     "end_time": "2025-01-17T13:29:10.553048",
     "exception": false,
     "start_time": "2025-01-17T13:29:10.502276",
     "status": "completed"
    },
    "tags": []
   },
   "outputs": [],
   "source": [
    "data.fillna({\n",
    "    'Received_tier_discount_percentage': 0,\n",
    "    'Received_card_discount_percentage': 0,\n",
    "    'Received_coupon_discount_percentage': 0,\n",
    "    'loyalty_tier': -1\n",
    "}, inplace=True)\n",
    "\n",
    "test.fillna({\n",
    "    'Received_tier_discount_percentage': 0,\n",
    "    'Received_card_discount_percentage': 0,\n",
    "    'Received_coupon_discount_percentage': 0,\n",
    "    'loyalty_tier': -1\n",
    "}, inplace=True)"
   ]
  },
  {
   "cell_type": "markdown",
   "id": "925229aa",
   "metadata": {
    "papermill": {
     "duration": 0.02583,
     "end_time": "2025-01-17T13:29:10.605030",
     "exception": false,
     "start_time": "2025-01-17T13:29:10.579200",
     "status": "completed"
    },
    "tags": []
   },
   "source": [
    "#### Concat"
   ]
  },
  {
   "cell_type": "code",
   "execution_count": 60,
   "id": "88790edc",
   "metadata": {
    "execution": {
     "iopub.execute_input": "2025-01-17T13:29:10.710551Z",
     "iopub.status.busy": "2025-01-17T13:29:10.710227Z",
     "iopub.status.idle": "2025-01-17T13:29:10.767368Z",
     "shell.execute_reply": "2025-01-17T13:29:10.766280Z"
    },
    "papermill": {
     "duration": 0.086073,
     "end_time": "2025-01-17T13:29:10.769271",
     "exception": false,
     "start_time": "2025-01-17T13:29:10.683198",
     "status": "completed"
    },
    "tags": []
   },
   "outputs": [],
   "source": [
    "df = pd.concat([data,test], axis =0)"
   ]
  },
  {
   "cell_type": "code",
   "execution_count": 61,
   "id": "a7b667af",
   "metadata": {
    "execution": {
     "iopub.execute_input": "2025-01-17T13:29:10.825529Z",
     "iopub.status.busy": "2025-01-17T13:29:10.825162Z",
     "iopub.status.idle": "2025-01-17T13:29:10.936968Z",
     "shell.execute_reply": "2025-01-17T13:29:10.936013Z"
    },
    "papermill": {
     "duration": 0.143377,
     "end_time": "2025-01-17T13:29:10.939059",
     "exception": false,
     "start_time": "2025-01-17T13:29:10.795682",
     "status": "completed"
    },
    "tags": []
   },
   "outputs": [],
   "source": [
    "df = df.drop(columns=['tracking_number', 'order_id'])"
   ]
  },
  {
   "cell_type": "code",
   "execution_count": 62,
   "id": "c507c7af",
   "metadata": {
    "execution": {
     "iopub.execute_input": "2025-01-17T13:29:10.994311Z",
     "iopub.status.busy": "2025-01-17T13:29:10.993986Z",
     "iopub.status.idle": "2025-01-17T13:29:11.013432Z",
     "shell.execute_reply": "2025-01-17T13:29:11.012492Z"
    },
    "papermill": {
     "duration": 0.049588,
     "end_time": "2025-01-17T13:29:11.015302",
     "exception": false,
     "start_time": "2025-01-17T13:29:10.965714",
     "status": "completed"
    },
    "tags": []
   },
   "outputs": [],
   "source": [
    "# Optimizing data types for df\n",
    "df['id'] = df['id'].astype('Int32')\n",
    "df['age'] = df['age'].astype('Int8')\n",
    "df['loyalty_points_redeemed'] = df['loyalty_points_redeemed'].astype('Int16')\n",
    "df['Received_coupon_discount_percentage'] = df['Received_coupon_discount_percentage'].astype('Int16')\n",
    "df['Product_value'] = df['Product_value'].astype('Int32')\n",
    "df['final_payment'] = df['final_payment'].astype('float32')\n",
    "df['loyalty_tier'] = df['loyalty_tier'].astype('float32')\n",
    "df['Received_tier_discount_percentage'] = df['Received_tier_discount_percentage'].astype('float32')\n",
    "df['Received_card_discount_percentage'] = df['Received_card_discount_percentage'].astype('float32')"
   ]
  },
  {
   "cell_type": "markdown",
   "id": "bc975a54",
   "metadata": {
    "papermill": {
     "duration": 0.025777,
     "end_time": "2025-01-17T13:29:11.068099",
     "exception": false,
     "start_time": "2025-01-17T13:29:11.042322",
     "status": "completed"
    },
    "tags": []
   },
   "source": [
    "#### Categorical Encoding"
   ]
  },
  {
   "cell_type": "code",
   "execution_count": 63,
   "id": "925639a1",
   "metadata": {
    "execution": {
     "iopub.execute_input": "2025-01-17T13:29:11.122281Z",
     "iopub.status.busy": "2025-01-17T13:29:11.121904Z",
     "iopub.status.idle": "2025-01-17T13:29:11.172468Z",
     "shell.execute_reply": "2025-01-17T13:29:11.171335Z"
    },
    "papermill": {
     "duration": 0.08014,
     "end_time": "2025-01-17T13:29:11.174518",
     "exception": false,
     "start_time": "2025-01-17T13:29:11.094378",
     "status": "completed"
    },
    "tags": []
   },
   "outputs": [],
   "source": [
    "df['shipping_method'] = pd.Categorical(df['shipping_method'], categories=['standard', 'express'], ordered=True)\n",
    "df['shipping_method'] = df['shipping_method'].cat.codes\n",
    "\n",
    "df['customer_experience'] = pd.Categorical(df['customer_experience'], categories=['bad', 'neutral','good'], ordered=True)\n",
    "df['customer_experience'] = df['customer_experience'].cat.codes"
   ]
  },
  {
   "cell_type": "markdown",
   "id": "1c5ecd95",
   "metadata": {
    "papermill": {
     "duration": 0.031394,
     "end_time": "2025-01-17T13:29:11.487172",
     "exception": false,
     "start_time": "2025-01-17T13:29:11.455778",
     "status": "completed"
    },
    "tags": []
   },
   "source": [
    "#### One Hot Encoding"
   ]
  },
  {
   "cell_type": "code",
   "execution_count": 65,
   "id": "77f1f7ba",
   "metadata": {
    "execution": {
     "iopub.execute_input": "2025-01-17T13:29:11.551867Z",
     "iopub.status.busy": "2025-01-17T13:29:11.551456Z",
     "iopub.status.idle": "2025-01-17T13:29:13.391011Z",
     "shell.execute_reply": "2025-01-17T13:29:13.390025Z"
    },
    "papermill": {
     "duration": 1.87409,
     "end_time": "2025-01-17T13:29:13.393070",
     "exception": false,
     "start_time": "2025-01-17T13:29:11.518980",
     "status": "completed"
    },
    "tags": []
   },
   "outputs": [],
   "source": [
    "from sklearn.preprocessing import OneHotEncoder\n",
    "\n",
    "def one_hot_encode_and_add(df, column):\n",
    "    one_hot_encoder = OneHotEncoder(sparse_output=False)\n",
    "    one_hot_encoded = one_hot_encoder.fit_transform(df[[column]])\n",
    "    encoded_columns = pd.DataFrame(one_hot_encoded, columns=one_hot_encoder.get_feature_names_out([column]))\n",
    "    encoded_columns.index = df.index\n",
    "    df = pd.concat([df, encoded_columns], axis=1)\n",
    "    df = df.drop(columns=[column])\n",
    "    return df\n",
    "\n",
    "columns_to_encode = ['Gender', 'Is_current_loyalty_program_member', 'purchase_medium']\n",
    "\n",
    "for col in columns_to_encode:\n",
    "    df = one_hot_encode_and_add(df, col)"
   ]
  },
  {
   "cell_type": "markdown",
   "id": "951cf6fb",
   "metadata": {
    "papermill": {
     "duration": 0.030499,
     "end_time": "2025-01-17T13:29:13.783047",
     "exception": false,
     "start_time": "2025-01-17T13:29:13.752548",
     "status": "completed"
    },
    "tags": []
   },
   "source": [
    "#### Separate df dataframe "
   ]
  },
  {
   "cell_type": "code",
   "execution_count": 66,
   "id": "f5f6ddb9",
   "metadata": {
    "execution": {
     "iopub.execute_input": "2025-01-17T13:29:13.848835Z",
     "iopub.status.busy": "2025-01-17T13:29:13.848446Z",
     "iopub.status.idle": "2025-01-17T13:29:13.923957Z",
     "shell.execute_reply": "2025-01-17T13:29:13.922706Z"
    },
    "papermill": {
     "duration": 0.111702,
     "end_time": "2025-01-17T13:29:13.926080",
     "exception": false,
     "start_time": "2025-01-17T13:29:13.814378",
     "status": "completed"
    },
    "tags": []
   },
   "outputs": [],
   "source": [
    "data = df[df['customer_experience'] != -1]\n",
    "test = df[df['customer_experience'] == -1]\n",
    "test=test.drop(columns=['customer_experience'])"
   ]
  },
  {
   "cell_type": "code",
   "execution_count": 69,
   "id": "56eb64c5",
   "metadata": {
    "execution": {
     "iopub.execute_input": "2025-01-17T13:29:22.935676Z",
     "iopub.status.busy": "2025-01-17T13:29:22.935256Z",
     "iopub.status.idle": "2025-01-17T13:29:23.009310Z",
     "shell.execute_reply": "2025-01-17T13:29:23.008101Z"
    },
    "papermill": {
     "duration": 0.116997,
     "end_time": "2025-01-17T13:29:23.011275",
     "exception": false,
     "start_time": "2025-01-17T13:29:22.894278",
     "status": "completed"
    },
    "tags": []
   },
   "outputs": [],
   "source": [
    "data = data[data['Product_value'] <= 10000]\n",
    "data = data[data['Received_card_discount_percentage'] <= 5]\n",
    "data = data[data['Received_coupon_discount_percentage'] <= 5]"
   ]
  },
  {
   "cell_type": "markdown",
   "id": "cd3b84d3",
   "metadata": {
    "papermill": {
     "duration": 0.039657,
     "end_time": "2025-01-17T13:29:23.091728",
     "exception": false,
     "start_time": "2025-01-17T13:29:23.052071",
     "status": "completed"
    },
    "tags": []
   },
   "source": [
    "#### Feature Engineering"
   ]
  },
  {
   "cell_type": "code",
   "execution_count": 70,
   "id": "5f9caab5",
   "metadata": {
    "execution": {
     "iopub.execute_input": "2025-01-17T13:29:23.173420Z",
     "iopub.status.busy": "2025-01-17T13:29:23.173049Z",
     "iopub.status.idle": "2025-01-17T13:29:23.184718Z",
     "shell.execute_reply": "2025-01-17T13:29:23.183528Z"
    },
    "papermill": {
     "duration": 0.054981,
     "end_time": "2025-01-17T13:29:23.186883",
     "exception": false,
     "start_time": "2025-01-17T13:29:23.131902",
     "status": "completed"
    },
    "tags": []
   },
   "outputs": [],
   "source": [
    "def process_dataframe(df):\n",
    "    import pandas as pd\n",
    "\n",
    "    # --- Discount & Price Features ---\n",
    "    discount_cols = ['Received_tier_discount_percentage', 'Received_card_discount_percentage', 'Received_coupon_discount_percentage']\n",
    "    df['total_discount_percentage'] = df[discount_cols].sum(axis=1)\n",
    "    df['Total_Discount_Amount'] = df['Product_value'] * (df['total_discount_percentage'] / 100)\n",
    "    df['discount_amount_ratio'] = df['Total_Discount_Amount'] / (df['Product_value'] + 1e-9)\n",
    "    df['high_discount_order'] = (df['Total_Discount_Amount'] > df['Total_Discount_Amount'].median()).astype(int)\n",
    "    df['shipping_cost'] = df['final_payment'] - (df['Product_value'] - df['Total_Discount_Amount'])\n",
    "    df['shipping_cost_ratio'] = df['shipping_cost'] / df['Product_value']\n",
    "    df['price_tier'] = pd.qcut(df['Product_value'], q=5, labels=range(5))\n",
    "    df['discount_types_used'] = (df[discount_cols] > 0).sum(axis=1)\n",
    "\n",
    "    # --- Loyalty Features ---\n",
    "    df['loyalty_engagement_score'] = df['loyalty_points_redeemed'] / (df['Product_value'] + 1e-9)\n",
    "\n",
    "    # --- Temporal Features ---\n",
    "    dt = df['purchased_datetime'].dt\n",
    "    df['purchase_hour'] = dt.hour\n",
    "    df['purchase_day_of_week'] = dt.dayofweek\n",
    "    df['is_weekend_purchase'] = df['purchase_day_of_week'].isin([5, 6]).astype(int)\n",
    "    df['is_business_hours'] = df['purchase_hour'].between(9, 17).astype(int)\n",
    "    df['purchase_month'] = dt.month\n",
    "    df['purchase_quarter'] = dt.quarter\n",
    "\n",
    "    # --- Delivery Features ---\n",
    "    df['receive_day_of_week'] = df['received_date'].dt.dayofweek\n",
    "    df['processing_days'] = (df['released_date'] - df['purchased_datetime']).dt.days\n",
    "    df['delivery_days'] = (df['received_date'] - df['released_date']).dt.days\n",
    "    df['total_order_days'] = (df['received_date'] - df['purchased_datetime']).dt.days\n",
    "    df['delivery_delay'] = (df['received_date'] - df['estimated_delivery_date']).dt.days\n",
    "    df['is_delayed'] = (df['delivery_delay'] > 0).astype(int)\n",
    "\n",
    "    # --- Customer Features ---\n",
    "    df['customer_tenure_days'] = (df['purchased_datetime'] - df['Date_Registered']).dt.days\n",
    "    df['age_group'] = pd.cut(df['age'], bins=[0, 25, 35, 50, 65], labels=range(4))\n",
    "\n",
    "    # --- Purchase History ---\n",
    "    df['is_first_purchase'] = df.groupby('user_id')['purchased_datetime'].cumcount().eq(0).astype(int)\n",
    "    df['purchase_count'] = df.groupby('user_id')['transaction_id'].transform('count')\n",
    "\n",
    "    # --- Product Features ---\n",
    "    df['product_category_encoded'] = pd.factorize(df['product_category'])[0]\n",
    "\n",
    "    return df\n"
   ]
  },
  {
   "cell_type": "code",
   "execution_count": 71,
   "id": "df47707e",
   "metadata": {
    "execution": {
     "iopub.execute_input": "2025-01-17T13:29:23.268471Z",
     "iopub.status.busy": "2025-01-17T13:29:23.268095Z",
     "iopub.status.idle": "2025-01-17T13:29:24.576419Z",
     "shell.execute_reply": "2025-01-17T13:29:24.575498Z"
    },
    "papermill": {
     "duration": 1.35116,
     "end_time": "2025-01-17T13:29:24.578365",
     "exception": false,
     "start_time": "2025-01-17T13:29:23.227205",
     "status": "completed"
    },
    "tags": []
   },
   "outputs": [],
   "source": [
    "# Apply the function to both dataframes\n",
    "data = process_dataframe(data)\n",
    "test = process_dataframe(test)"
   ]
  },
  {
   "cell_type": "code",
   "execution_count": 72,
   "id": "d263533f",
   "metadata": {
    "execution": {
     "iopub.execute_input": "2025-01-17T13:29:24.660379Z",
     "iopub.status.busy": "2025-01-17T13:29:24.660015Z",
     "iopub.status.idle": "2025-01-17T13:29:24.737584Z",
     "shell.execute_reply": "2025-01-17T13:29:24.736354Z"
    },
    "papermill": {
     "duration": 0.120828,
     "end_time": "2025-01-17T13:29:24.739581",
     "exception": false,
     "start_time": "2025-01-17T13:29:24.618753",
     "status": "completed"
    },
    "tags": []
   },
   "outputs": [],
   "source": [
    "data =data.drop(columns=['user_id','transaction_id','product_category','payment_method'])\n",
    "test =test.drop(columns=['user_id','transaction_id','product_category','payment_method'])"
   ]
  },
  {
   "cell_type": "markdown",
   "id": "8415c2ad",
   "metadata": {
    "papermill": {
     "duration": 0.155284,
     "end_time": "2025-01-17T13:30:31.952905",
     "exception": false,
     "start_time": "2025-01-17T13:30:31.797621",
     "status": "completed"
    },
    "tags": []
   },
   "source": [
    "#### MI Score"
   ]
  },
  {
   "cell_type": "code",
   "execution_count": 75,
   "id": "d1ded734",
   "metadata": {
    "execution": {
     "iopub.execute_input": "2025-01-17T13:30:32.267833Z",
     "iopub.status.busy": "2025-01-17T13:30:32.267227Z",
     "iopub.status.idle": "2025-01-17T13:30:32.678896Z",
     "shell.execute_reply": "2025-01-17T13:30:32.677827Z"
    },
    "papermill": {
     "duration": 0.570798,
     "end_time": "2025-01-17T13:30:32.680952",
     "exception": false,
     "start_time": "2025-01-17T13:30:32.110154",
     "status": "completed"
    },
    "tags": []
   },
   "outputs": [],
   "source": [
    "from sklearn.feature_selection import mutual_info_regression\n",
    "\n",
    "def make_mi_scores(X, y):\n",
    "    X = X.copy()\n",
    "    X = X.dropna()  \n",
    "    discrete_features = [pd.api.types.is_integer_dtype(t) for t in X.dtypes]\n",
    "    mi_scores = mutual_info_regression(X, y, discrete_features=discrete_features, random_state=0)\n",
    "    mi_scores = pd.Series(mi_scores, name=\"MI Scores\", index=X.columns)\n",
    "    mi_scores = mi_scores.sort_values(ascending=False)\n",
    "    return mi_scores\n",
    "\n",
    "\n",
    "def plot_mi_scores(scores):\n",
    "    scores = scores.sort_values(ascending=True)\n",
    "    width = np.arange(len(scores))\n",
    "    ticks = list(scores.index)\n",
    "    plt.barh(width, scores)\n",
    "    plt.yticks(width, ticks)\n",
    "    plt.title(\"Mutual Information Scores\")"
   ]
  },
  {
   "cell_type": "code",
   "execution_count": 76,
   "id": "79e6e3da",
   "metadata": {
    "execution": {
     "iopub.execute_input": "2025-01-17T13:30:33.322840Z",
     "iopub.status.busy": "2025-01-17T13:30:33.322378Z",
     "iopub.status.idle": "2025-01-17T13:30:33.367805Z",
     "shell.execute_reply": "2025-01-17T13:30:33.366746Z"
    },
    "papermill": {
     "duration": 0.203631,
     "end_time": "2025-01-17T13:30:33.369781",
     "exception": false,
     "start_time": "2025-01-17T13:30:33.166150",
     "status": "completed"
    },
    "tags": []
   },
   "outputs": [],
   "source": [
    "X = data.drop(['id','customer_experience','Date_Registered', 'payment_datetime', 'purchased_datetime', \n",
    "                    'released_date', 'estimated_delivery_date', 'received_date'], axis=1)\n",
    "y = data['customer_experience']"
   ]
  },
  {
   "cell_type": "markdown",
   "id": "bebc51ae",
   "metadata": {
    "papermill": {
     "duration": 0.161149,
     "end_time": "2025-01-17T13:32:35.951399",
     "exception": false,
     "start_time": "2025-01-17T13:32:35.790250",
     "status": "completed"
    },
    "tags": []
   },
   "source": [
    "# Prepare Data for modeling"
   ]
  },
  {
   "cell_type": "code",
   "execution_count": 77,
   "id": "b1f59ce2",
   "metadata": {
    "execution": {
     "iopub.execute_input": "2025-01-17T13:32:36.912456Z",
     "iopub.status.busy": "2025-01-17T13:32:36.912111Z",
     "iopub.status.idle": "2025-01-17T13:32:36.917572Z",
     "shell.execute_reply": "2025-01-17T13:32:36.916319Z"
    },
    "papermill": {
     "duration": 0.167221,
     "end_time": "2025-01-17T13:32:36.919810",
     "exception": false,
     "start_time": "2025-01-17T13:32:36.752589",
     "status": "completed"
    },
    "tags": []
   },
   "outputs": [],
   "source": [
    "selected_features=['loyalty_points_redeemed',\n",
    "       'loyalty_tier', 'Received_tier_discount_percentage',\n",
    "       'Received_card_discount_percentage',\n",
    "       'Received_coupon_discount_percentage', 'Product_value',\n",
    "        'final_payment','shipping_method', 'Gender_F', 'Gender_M',\n",
    "       'Gender_O', 'Is_current_loyalty_program_member_NO',\n",
    "       'Is_current_loyalty_program_member_YES', 'purchase_medium_in-store',\n",
    "       'purchase_medium_online', 'total_discount_percentage',\n",
    "       'Total_Discount_Amount', 'discount_amount_ratio', 'high_discount_order',\n",
    "       'shipping_cost', 'shipping_cost_ratio', 'price_tier',\n",
    "       'discount_types_used', 'loyalty_engagement_score', 'purchase_hour',\n",
    "       'purchase_day_of_week', 'is_weekend_purchase', 'is_business_hours',\n",
    "       'purchase_month', 'purchase_quarter', 'receive_day_of_week',\n",
    "       'processing_days', 'delivery_days', 'total_order_days',\n",
    "       'delivery_delay', 'is_delayed', 'customer_tenure_days', 'age_group',\n",
    "       'is_first_purchase', 'purchase_count', 'product_category_encoded']"
   ]
  },
  {
   "cell_type": "code",
   "execution_count": 78,
   "id": "ec4be328",
   "metadata": {
    "execution": {
     "iopub.execute_input": "2025-01-17T13:32:37.243547Z",
     "iopub.status.busy": "2025-01-17T13:32:37.243197Z",
     "iopub.status.idle": "2025-01-17T13:32:37.961802Z",
     "shell.execute_reply": "2025-01-17T13:32:37.960802Z"
    },
    "papermill": {
     "duration": 0.884191,
     "end_time": "2025-01-17T13:32:37.963820",
     "exception": false,
     "start_time": "2025-01-17T13:32:37.079629",
     "status": "completed"
    },
    "tags": []
   },
   "outputs": [],
   "source": [
    "from sklearn.model_selection import train_test_split\n",
    "from sklearn.preprocessing import StandardScaler\n",
    "\n",
    "# Create feature set\n",
    "X = data[selected_features].copy()\n",
    "\n",
    "# Target variable\n",
    "y = data['customer_experience']\n",
    "\n",
    "# Split the data\n",
    "X_train, X_test, y_train, y_test = train_test_split(X, y, test_size=0.2, random_state=42, stratify=y)\n",
    "# Scale the features\n",
    "scaler = StandardScaler()\n",
    "X_train_scaled = scaler.fit_transform(X_train)\n",
    "X_test_scaled = scaler.transform(X_test)\n",
    "\n",
    "# Convert back to DataFrame\n",
    "X_train = pd.DataFrame(X_train_scaled, columns=X_train.columns, index=X_train.index)\n",
    "X_test = pd.DataFrame(X_test_scaled, columns=X_test.columns, index=X_test.index)"
   ]
  },
  {
   "cell_type": "code",
   "execution_count": null,
   "id": "83c9816a",
   "metadata": {
    "execution": {
     "iopub.execute_input": "2025-01-17T13:32:38.284679Z",
     "iopub.status.busy": "2025-01-17T13:32:38.284220Z",
     "iopub.status.idle": "2025-01-17T13:32:57.465198Z",
     "shell.execute_reply": "2025-01-17T13:32:57.463788Z"
    },
    "papermill": {
     "duration": 19.34444,
     "end_time": "2025-01-17T13:32:57.467251",
     "exception": false,
     "start_time": "2025-01-17T13:32:38.122811",
     "status": "completed"
    },
    "tags": []
   },
   "outputs": [],
   "source": [
    "# Define models with optimized parameters\n",
    "models = {\n",
    "    'LightGBM': LGBMClassifier(\n",
    "        objective='multiclass', \n",
    "        num_class=3,\n",
    "        learning_rate=0.1,\n",
    "        n_estimators=90,\n",
    "        num_leaves=64,\n",
    "        feature_fraction=0.9,\n",
    "        bagging_fraction=0.9,\n",
    "        lambda_l1=0.1,\n",
    "        lambda_l2=0.1,\n",
    "        random_state=42\n",
    "    ),\n",
    "    'RandomForest': RandomForestClassifier(\n",
    "         n_estimators=200,\n",
    "         max_depth=10,\n",
    "         min_samples_split=5,\n",
    "         min_samples_leaf=2,\n",
    "         random_state=42\n",
    "    )\n",
    "}\n"
   ]
  },
  {
   "cell_type": "code",
   "execution_count": null,
   "id": "0c829ace",
   "metadata": {},
   "outputs": [],
   "source": [
    "\n",
    "def evaluate_model(model, X_train, X_test, y_train, y_test, model_name, output_file):\n",
    "    with open(output_file, 'a', encoding='utf-8') as f:\n",
    "        f.write(f\"\\n========== {model_name} ==========\\n\")\n",
    "        model.fit(X_train, y_train)\n",
    "        y_pred = model.predict(X_test)\n",
    "        acc = accuracy_score(y_test, y_pred)\n",
    "        f1 = f1_score(y_test, y_pred, average='weighted')\n",
    "        f.write(f\"Accuracy: {acc:.4f}\\n\")\n",
    "        f.write(f\"F1 Score: {f1:.4f}\\n\\n\")\n",
    "        f.write(\"Classification Report:\\n\")\n",
    "        f.write(classification_report(y_test, y_pred))\n",
    "        f.write(\"\\nConfusion Matrix:\\n\")\n",
    "        f.write(str(confusion_matrix(y_test, y_pred)))\n",
    "        f.write(\"\\n\")\n"
   ]
  },
  {
   "cell_type": "code",
   "execution_count": null,
   "id": "cab0cd18",
   "metadata": {},
   "outputs": [],
   "source": [
    "output_file = \"model_results.txt\"\n",
    "with open(output_file, 'w'):\n",
    "    pass\n",
    "\n",
    "for model_name, model in models.items():\n",
    "    evaluate_model(model, X_train, X_test, y_train, y_test, model_name, output_file)\n"
   ]
  }
 ],
 "metadata": {
  "kaggle": {
   "accelerator": "none",
   "dataSources": [
    {
     "databundleVersionId": 10664448,
     "sourceId": 90922,
     "sourceType": "competition"
    }
   ],
   "dockerImageVersionId": 30822,
   "isGpuEnabled": false,
   "isInternetEnabled": true,
   "language": "python",
   "sourceType": "notebook"
  },
  "kernelspec": {
   "display_name": "base",
   "language": "python",
   "name": "python3"
  },
  "language_info": {
   "codemirror_mode": {
    "name": "ipython",
    "version": 3
   },
   "file_extension": ".py",
   "mimetype": "text/x-python",
   "name": "python",
   "nbconvert_exporter": "python",
   "pygments_lexer": "ipython3",
   "version": "3.12.7"
  },
  "papermill": {
   "default_parameters": {},
   "duration": 252.557437,
   "end_time": "2025-01-17T13:33:11.452419",
   "environment_variables": {},
   "exception": null,
   "input_path": "__notebook__.ipynb",
   "output_path": "__notebook__.ipynb",
   "parameters": {},
   "start_time": "2025-01-17T13:28:58.894982",
   "version": "2.6.0"
  }
 },
 "nbformat": 4,
 "nbformat_minor": 5
}
